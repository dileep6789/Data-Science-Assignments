{
 "cells": [
  {
   "cell_type": "markdown",
   "id": "6f1baf60-ae65-4dff-b4d1-b45bead64eb6",
   "metadata": {},
   "source": [
    "# Excerise 1: Prime Numbers"
   ]
  },
  {
   "cell_type": "code",
   "execution_count": 44,
   "id": "41519c18-e33c-44c5-95d0-58d118863758",
   "metadata": {},
   "outputs": [
    {
     "name": "stdin",
     "output_type": "stream",
     "text": [
      "Enter a number: 97\n"
     ]
    },
    {
     "name": "stdout",
     "output_type": "stream",
     "text": [
      "97  is a prime number.\n"
     ]
    }
   ],
   "source": [
    "number=int(input(\"Enter a number:\"))\n",
    "if number==1:\n",
    "    print(number,\"is not a prime number.\")\n",
    "elif number==2:\n",
    "    print(number,\"is a prime number.\")\n",
    "elif number>=3:\n",
    "    for i in range(2,number):\n",
    "        if number%i==0:\n",
    "            print(number,\"is not a prime number.\")\n",
    "            break;\n",
    "    else:\n",
    "        print(number,\" is a prime number.\")\n",
    "        "
   ]
  },
  {
   "cell_type": "markdown",
   "id": "7748d884-0884-4007-a314-b2b85697227d",
   "metadata": {},
   "source": [
    "# Excerise 2: Product of Random Numbers"
   ]
  },
  {
   "cell_type": "code",
   "execution_count": 37,
   "id": "e6f11423-3d2b-4693-8002-86c28a2aa3a9",
   "metadata": {},
   "outputs": [
    {
     "name": "stdout",
     "output_type": "stream",
     "text": [
      "[6 4]\n"
     ]
    },
    {
     "name": "stdin",
     "output_type": "stream",
     "text": [
      "Enter the product of two numbers 34\n"
     ]
    },
    {
     "name": "stdout",
     "output_type": "stream",
     "text": [
      "Sorry! Try once again.\n"
     ]
    }
   ],
   "source": [
    "# import numpy library\n",
    "import numpy as np\n",
    "numbers=np.random.randint(1,10,2)\n",
    "print(numbers)\n",
    "product=np.prod(numbers)\n",
    "user_input=int(input(\"Enter the product of two numbers\"))\n",
    "if user_input==product:\n",
    "    print(\"hey!\",user_input,\"is Correct..\")\n",
    "    print(\"Congratulations.\")\n",
    "else:\n",
    "    print(\"Sorry! Try once again.\")"
   ]
  },
  {
   "cell_type": "markdown",
   "id": "08722971-258e-438c-9528-995466bf9f9a",
   "metadata": {},
   "source": [
    "# Exercise 3: Square of Even/Odd Numbers"
   ]
  },
  {
   "cell_type": "code",
   "execution_count": 25,
   "id": "cb3ff730-2fb9-42e9-9296-bf466815800d",
   "metadata": {},
   "outputs": [],
   "source": [
    "# import numpy library\n",
    "import numpy as np"
   ]
  },
  {
   "cell_type": "markdown",
   "id": "cd1a2cfb-d5ad-49c8-94ff-7717f859cab3",
   "metadata": {},
   "source": [
    "# For Even Numbers"
   ]
  },
  {
   "cell_type": "code",
   "execution_count": 12,
   "id": "a04ac1ac-2679-49bb-97b9-43d83c21609f",
   "metadata": {},
   "outputs": [
    {
     "name": "stdout",
     "output_type": "stream",
     "text": [
      "[100 102 104 106 108 110 112 114 116 118 120 122 124 126 128 130 132 134\n",
      " 136 138 140 142 144 146 148 150 152 154 156 158 160 162 164 166 168 170\n",
      " 172 174 176 178 180 182 184 186 188 190 192 194 196 198 200]\n"
     ]
    }
   ],
   "source": [
    "#list of even numbers between 100 to 200\n",
    "even_numbers=np.arange(100,201,2)\n",
    "print(even_numbers)"
   ]
  },
  {
   "cell_type": "code",
   "execution_count": 26,
   "id": "475060e5-4d9c-4e63-afdb-f5e972210cf3",
   "metadata": {},
   "outputs": [
    {
     "name": "stdout",
     "output_type": "stream",
     "text": [
      "[10000 10404 10816 11236 11664 12100 12544 12996 13456 13924 14400 14884\n",
      " 15376 15876 16384 16900 17424 17956 18496 19044 19600 20164 20736 21316\n",
      " 21904 22500 23104 23716 24336 24964 25600 26244 26896 27556 28224 28900\n",
      " 29584 30276 30976 31684 32400 33124 33856 34596 35344 36100 36864 37636\n",
      " 38416 39204 40000]\n"
     ]
    }
   ],
   "source": [
    "print(even_numbers**2)"
   ]
  },
  {
   "cell_type": "markdown",
   "id": "78949d71-bea9-4ab0-9354-fb29ab8215d1",
   "metadata": {},
   "source": [
    "# For Odd Numbers"
   ]
  },
  {
   "cell_type": "code",
   "execution_count": 28,
   "id": "7b3c24b6-3f3f-4065-a2b2-53f490b85f0b",
   "metadata": {},
   "outputs": [
    {
     "name": "stdout",
     "output_type": "stream",
     "text": [
      "[101 103 105 107 109 111 113 115 117 119 121 123 125 127 129 131 133 135\n",
      " 137 139 141 143 145 147 149 151 153 155 157 159 161 163 165 167 169 171\n",
      " 173 175 177 179 181 183 185 187 189 191 193 195 197 199]\n"
     ]
    }
   ],
   "source": [
    "#list of odd numbers between 100 to 200\n",
    "odd_numbers=np.arange(101,200,2)\n",
    "print(odd_numbers)"
   ]
  },
  {
   "cell_type": "code",
   "execution_count": 18,
   "id": "52b1c0f4-b8e5-4a45-87b0-a2d3e20528a9",
   "metadata": {},
   "outputs": [
    {
     "name": "stdout",
     "output_type": "stream",
     "text": [
      "[10201 10609 11025 11449 11881 12321 12769 13225 13689 14161 14641 15129\n",
      " 15625 16129 16641 17161 17689 18225 18769 19321 19881 20449 21025 21609\n",
      " 22201 22801 23409 24025 24649 25281 25921 26569 27225 27889 28561 29241\n",
      " 29929 30625 31329 32041 32761 33489 34225 34969 35721 36481 37249 38025\n",
      " 38809 39601]\n"
     ]
    }
   ],
   "source": [
    "print(odd_numbers**2)"
   ]
  },
  {
   "cell_type": "markdown",
   "id": "2fdc19bf-1547-4deb-bd9a-f3bece035db9",
   "metadata": {},
   "source": [
    "# Exercise 4: Word Counter"
   ]
  },
  {
   "cell_type": "code",
   "execution_count": 10,
   "id": "e3a182ae-1281-4b98-931b-a466768d0f1e",
   "metadata": {},
   "outputs": [
    {
     "name": "stdout",
     "output_type": "stream",
     "text": [
      "This : 2\n",
      "is : 1\n",
      "a : 1\n",
      "sample : 1\n",
      "text. : 1\n",
      "text : 1\n",
      "will : 1\n",
      "be : 1\n",
      "used : 1\n",
      "to : 1\n",
      "demonstrate : 1\n",
      "the : 1\n",
      "word : 1\n",
      "counter. : 1\n"
     ]
    }
   ],
   "source": [
    "input_text = \"This is a sample text. This text will be used to demonstrate the word counter.\"\n",
    "d1=dict()  # empty dictionary\n",
    "words=input_text.split()\n",
    "for word in words:\n",
    "    if word in d1:\n",
    "        d1[word]=d1[word]+1\n",
    "    else:\n",
    "        d1[word]=1\n",
    "for key,value in d1.items():\n",
    "    print(key,\":\",value)"
   ]
  },
  {
   "cell_type": "markdown",
   "id": "45b7beba-191b-476b-b557-def925e6161b",
   "metadata": {},
   "source": [
    "# Exercise 5: Check for Palindrome"
   ]
  },
  {
   "cell_type": "code",
   "execution_count": 38,
   "id": "a8a22670-db54-4e47-832e-db69cf954033",
   "metadata": {},
   "outputs": [
    {
     "name": "stdin",
     "output_type": "stream",
     "text": [
      "enter the text: racecar\n"
     ]
    },
    {
     "name": "stdout",
     "output_type": "stream",
     "text": [
      "True\n"
     ]
    }
   ],
   "source": [
    "def palindrome(text):\n",
    "    text=text.lower()\n",
    "    if text==text[::-1]:\n",
    "        print(True)\n",
    "    else:\n",
    "        print(False)\n",
    "text=input(\"enter the text:\")\n",
    "palindrome(text)"
   ]
  }
 ],
 "metadata": {
  "kernelspec": {
   "display_name": "Python 3 (ipykernel)",
   "language": "python",
   "name": "python3"
  },
  "language_info": {
   "codemirror_mode": {
    "name": "ipython",
    "version": 3
   },
   "file_extension": ".py",
   "mimetype": "text/x-python",
   "name": "python",
   "nbconvert_exporter": "python",
   "pygments_lexer": "ipython3",
   "version": "3.11.7"
  }
 },
 "nbformat": 4,
 "nbformat_minor": 5
}
