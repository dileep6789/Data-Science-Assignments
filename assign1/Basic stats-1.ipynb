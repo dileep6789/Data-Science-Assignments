{
 "cells": [
  {
   "cell_type": "code",
   "execution_count": 76,
   "id": "8388545f-29d0-4609-b8e8-66118d38a4a5",
   "metadata": {},
   "outputs": [],
   "source": [
    "import numpy as np\n",
    "import pandas as pd\n",
    "import matplotlib.pyplot as plt"
   ]
  },
  {
   "cell_type": "code",
   "execution_count": 78,
   "id": "1674a8f5-581d-4e57-a4fb-dd8ec96e0724",
   "metadata": {},
   "outputs": [
    {
     "data": {
      "text/html": [
       "<div>\n",
       "<style scoped>\n",
       "    .dataframe tbody tr th:only-of-type {\n",
       "        vertical-align: middle;\n",
       "    }\n",
       "\n",
       "    .dataframe tbody tr th {\n",
       "        vertical-align: top;\n",
       "    }\n",
       "\n",
       "    .dataframe thead th {\n",
       "        text-align: right;\n",
       "    }\n",
       "</style>\n",
       "<table border=\"1\" class=\"dataframe\">\n",
       "  <thead>\n",
       "    <tr style=\"text-align: right;\">\n",
       "      <th></th>\n",
       "      <th>Date</th>\n",
       "      <th>Day</th>\n",
       "      <th>SKU</th>\n",
       "      <th>City</th>\n",
       "      <th>Volume</th>\n",
       "      <th>BU</th>\n",
       "      <th>Brand</th>\n",
       "      <th>Model</th>\n",
       "      <th>Avg Price</th>\n",
       "      <th>Total Sales Value</th>\n",
       "      <th>Discount Rate (%)</th>\n",
       "      <th>Discount Amount</th>\n",
       "      <th>Net Sales Value</th>\n",
       "    </tr>\n",
       "  </thead>\n",
       "  <tbody>\n",
       "    <tr>\n",
       "      <th>0</th>\n",
       "      <td>01-04-2021</td>\n",
       "      <td>Thursday</td>\n",
       "      <td>M01</td>\n",
       "      <td>C</td>\n",
       "      <td>15</td>\n",
       "      <td>Mobiles</td>\n",
       "      <td>RealU</td>\n",
       "      <td>RU-10</td>\n",
       "      <td>12100</td>\n",
       "      <td>181500</td>\n",
       "      <td>11.654820</td>\n",
       "      <td>21153.498820</td>\n",
       "      <td>160346.501180</td>\n",
       "    </tr>\n",
       "    <tr>\n",
       "      <th>1</th>\n",
       "      <td>01-04-2021</td>\n",
       "      <td>Thursday</td>\n",
       "      <td>M02</td>\n",
       "      <td>C</td>\n",
       "      <td>10</td>\n",
       "      <td>Mobiles</td>\n",
       "      <td>RealU</td>\n",
       "      <td>RU-9 Plus</td>\n",
       "      <td>10100</td>\n",
       "      <td>101000</td>\n",
       "      <td>11.560498</td>\n",
       "      <td>11676.102961</td>\n",
       "      <td>89323.897039</td>\n",
       "    </tr>\n",
       "    <tr>\n",
       "      <th>2</th>\n",
       "      <td>01-04-2021</td>\n",
       "      <td>Thursday</td>\n",
       "      <td>M03</td>\n",
       "      <td>C</td>\n",
       "      <td>7</td>\n",
       "      <td>Mobiles</td>\n",
       "      <td>YouM</td>\n",
       "      <td>YM-99</td>\n",
       "      <td>16100</td>\n",
       "      <td>112700</td>\n",
       "      <td>9.456886</td>\n",
       "      <td>10657.910157</td>\n",
       "      <td>102042.089843</td>\n",
       "    </tr>\n",
       "    <tr>\n",
       "      <th>3</th>\n",
       "      <td>01-04-2021</td>\n",
       "      <td>Thursday</td>\n",
       "      <td>M04</td>\n",
       "      <td>C</td>\n",
       "      <td>6</td>\n",
       "      <td>Mobiles</td>\n",
       "      <td>YouM</td>\n",
       "      <td>YM-99 Plus</td>\n",
       "      <td>20100</td>\n",
       "      <td>120600</td>\n",
       "      <td>6.935385</td>\n",
       "      <td>8364.074702</td>\n",
       "      <td>112235.925298</td>\n",
       "    </tr>\n",
       "    <tr>\n",
       "      <th>4</th>\n",
       "      <td>01-04-2021</td>\n",
       "      <td>Thursday</td>\n",
       "      <td>M05</td>\n",
       "      <td>C</td>\n",
       "      <td>3</td>\n",
       "      <td>Mobiles</td>\n",
       "      <td>YouM</td>\n",
       "      <td>YM-98</td>\n",
       "      <td>8100</td>\n",
       "      <td>24300</td>\n",
       "      <td>17.995663</td>\n",
       "      <td>4372.946230</td>\n",
       "      <td>19927.053770</td>\n",
       "    </tr>\n",
       "    <tr>\n",
       "      <th>...</th>\n",
       "      <td>...</td>\n",
       "      <td>...</td>\n",
       "      <td>...</td>\n",
       "      <td>...</td>\n",
       "      <td>...</td>\n",
       "      <td>...</td>\n",
       "      <td>...</td>\n",
       "      <td>...</td>\n",
       "      <td>...</td>\n",
       "      <td>...</td>\n",
       "      <td>...</td>\n",
       "      <td>...</td>\n",
       "      <td>...</td>\n",
       "    </tr>\n",
       "    <tr>\n",
       "      <th>445</th>\n",
       "      <td>15-04-2021</td>\n",
       "      <td>Thursday</td>\n",
       "      <td>L06</td>\n",
       "      <td>C</td>\n",
       "      <td>2</td>\n",
       "      <td>Lifestyle</td>\n",
       "      <td>Jeera</td>\n",
       "      <td>M-Casuals</td>\n",
       "      <td>1300</td>\n",
       "      <td>2600</td>\n",
       "      <td>15.475687</td>\n",
       "      <td>402.367873</td>\n",
       "      <td>2197.632127</td>\n",
       "    </tr>\n",
       "    <tr>\n",
       "      <th>446</th>\n",
       "      <td>15-04-2021</td>\n",
       "      <td>Thursday</td>\n",
       "      <td>L07</td>\n",
       "      <td>C</td>\n",
       "      <td>6</td>\n",
       "      <td>Lifestyle</td>\n",
       "      <td>Viva</td>\n",
       "      <td>W-Western</td>\n",
       "      <td>2600</td>\n",
       "      <td>15600</td>\n",
       "      <td>17.057027</td>\n",
       "      <td>2660.896242</td>\n",
       "      <td>12939.103758</td>\n",
       "    </tr>\n",
       "    <tr>\n",
       "      <th>447</th>\n",
       "      <td>15-04-2021</td>\n",
       "      <td>Thursday</td>\n",
       "      <td>L08</td>\n",
       "      <td>C</td>\n",
       "      <td>2</td>\n",
       "      <td>Lifestyle</td>\n",
       "      <td>Viva</td>\n",
       "      <td>W-Lounge</td>\n",
       "      <td>1600</td>\n",
       "      <td>3200</td>\n",
       "      <td>18.965550</td>\n",
       "      <td>606.897606</td>\n",
       "      <td>2593.102394</td>\n",
       "    </tr>\n",
       "    <tr>\n",
       "      <th>448</th>\n",
       "      <td>15-04-2021</td>\n",
       "      <td>Thursday</td>\n",
       "      <td>L09</td>\n",
       "      <td>C</td>\n",
       "      <td>3</td>\n",
       "      <td>Lifestyle</td>\n",
       "      <td>Jeera</td>\n",
       "      <td>M-Formals</td>\n",
       "      <td>1900</td>\n",
       "      <td>5700</td>\n",
       "      <td>16.793014</td>\n",
       "      <td>957.201826</td>\n",
       "      <td>4742.798174</td>\n",
       "    </tr>\n",
       "    <tr>\n",
       "      <th>449</th>\n",
       "      <td>15-04-2021</td>\n",
       "      <td>Thursday</td>\n",
       "      <td>L10</td>\n",
       "      <td>C</td>\n",
       "      <td>1</td>\n",
       "      <td>Lifestyle</td>\n",
       "      <td>Jeera</td>\n",
       "      <td>M-Shoes</td>\n",
       "      <td>3100</td>\n",
       "      <td>3100</td>\n",
       "      <td>15.333300</td>\n",
       "      <td>475.332295</td>\n",
       "      <td>2624.667705</td>\n",
       "    </tr>\n",
       "  </tbody>\n",
       "</table>\n",
       "<p>450 rows × 13 columns</p>\n",
       "</div>"
      ],
      "text/plain": [
       "           Date       Day  SKU City  Volume         BU  Brand       Model  \\\n",
       "0    01-04-2021  Thursday  M01    C      15    Mobiles  RealU       RU-10   \n",
       "1    01-04-2021  Thursday  M02    C      10    Mobiles  RealU   RU-9 Plus   \n",
       "2    01-04-2021  Thursday  M03    C       7    Mobiles   YouM       YM-99   \n",
       "3    01-04-2021  Thursday  M04    C       6    Mobiles   YouM  YM-99 Plus   \n",
       "4    01-04-2021  Thursday  M05    C       3    Mobiles   YouM      YM-98    \n",
       "..          ...       ...  ...  ...     ...        ...    ...         ...   \n",
       "445  15-04-2021  Thursday  L06    C       2  Lifestyle  Jeera   M-Casuals   \n",
       "446  15-04-2021  Thursday  L07    C       6  Lifestyle   Viva   W-Western   \n",
       "447  15-04-2021  Thursday  L08    C       2  Lifestyle   Viva    W-Lounge   \n",
       "448  15-04-2021  Thursday  L09    C       3  Lifestyle  Jeera   M-Formals   \n",
       "449  15-04-2021  Thursday  L10    C       1  Lifestyle  Jeera     M-Shoes   \n",
       "\n",
       "     Avg Price  Total Sales Value  Discount Rate (%)  Discount Amount  \\\n",
       "0        12100             181500          11.654820     21153.498820   \n",
       "1        10100             101000          11.560498     11676.102961   \n",
       "2        16100             112700           9.456886     10657.910157   \n",
       "3        20100             120600           6.935385      8364.074702   \n",
       "4         8100              24300          17.995663      4372.946230   \n",
       "..         ...                ...                ...              ...   \n",
       "445       1300               2600          15.475687       402.367873   \n",
       "446       2600              15600          17.057027      2660.896242   \n",
       "447       1600               3200          18.965550       606.897606   \n",
       "448       1900               5700          16.793014       957.201826   \n",
       "449       3100               3100          15.333300       475.332295   \n",
       "\n",
       "     Net Sales Value  \n",
       "0      160346.501180  \n",
       "1       89323.897039  \n",
       "2      102042.089843  \n",
       "3      112235.925298  \n",
       "4       19927.053770  \n",
       "..               ...  \n",
       "445      2197.632127  \n",
       "446     12939.103758  \n",
       "447      2593.102394  \n",
       "448      4742.798174  \n",
       "449      2624.667705  \n",
       "\n",
       "[450 rows x 13 columns]"
      ]
     },
     "execution_count": 78,
     "metadata": {},
     "output_type": "execute_result"
    }
   ],
   "source": [
    "data=pd.read_csv(\"sales_data_with_discounts.csv\")\n",
    "data"
   ]
  },
  {
   "cell_type": "code",
   "execution_count": 80,
   "id": "b3077796-d2f1-4095-a89e-a10f999832d0",
   "metadata": {},
   "outputs": [
    {
     "data": {
      "text/html": [
       "<div>\n",
       "<style scoped>\n",
       "    .dataframe tbody tr th:only-of-type {\n",
       "        vertical-align: middle;\n",
       "    }\n",
       "\n",
       "    .dataframe tbody tr th {\n",
       "        vertical-align: top;\n",
       "    }\n",
       "\n",
       "    .dataframe thead th {\n",
       "        text-align: right;\n",
       "    }\n",
       "</style>\n",
       "<table border=\"1\" class=\"dataframe\">\n",
       "  <thead>\n",
       "    <tr style=\"text-align: right;\">\n",
       "      <th></th>\n",
       "      <th>Date</th>\n",
       "      <th>Day</th>\n",
       "      <th>SKU</th>\n",
       "      <th>City</th>\n",
       "      <th>Volume</th>\n",
       "      <th>BU</th>\n",
       "      <th>Brand</th>\n",
       "      <th>Model</th>\n",
       "      <th>Avg Price</th>\n",
       "      <th>Total Sales Value</th>\n",
       "      <th>Discount Rate (%)</th>\n",
       "      <th>Discount Amount</th>\n",
       "      <th>Net Sales Value</th>\n",
       "    </tr>\n",
       "  </thead>\n",
       "  <tbody>\n",
       "    <tr>\n",
       "      <th>0</th>\n",
       "      <td>01-04-2021</td>\n",
       "      <td>Thursday</td>\n",
       "      <td>M01</td>\n",
       "      <td>C</td>\n",
       "      <td>15</td>\n",
       "      <td>Mobiles</td>\n",
       "      <td>RealU</td>\n",
       "      <td>RU-10</td>\n",
       "      <td>12100</td>\n",
       "      <td>181500</td>\n",
       "      <td>11.654820</td>\n",
       "      <td>21153.498820</td>\n",
       "      <td>160346.501180</td>\n",
       "    </tr>\n",
       "    <tr>\n",
       "      <th>1</th>\n",
       "      <td>01-04-2021</td>\n",
       "      <td>Thursday</td>\n",
       "      <td>M02</td>\n",
       "      <td>C</td>\n",
       "      <td>10</td>\n",
       "      <td>Mobiles</td>\n",
       "      <td>RealU</td>\n",
       "      <td>RU-9 Plus</td>\n",
       "      <td>10100</td>\n",
       "      <td>101000</td>\n",
       "      <td>11.560498</td>\n",
       "      <td>11676.102961</td>\n",
       "      <td>89323.897039</td>\n",
       "    </tr>\n",
       "    <tr>\n",
       "      <th>2</th>\n",
       "      <td>01-04-2021</td>\n",
       "      <td>Thursday</td>\n",
       "      <td>M03</td>\n",
       "      <td>C</td>\n",
       "      <td>7</td>\n",
       "      <td>Mobiles</td>\n",
       "      <td>YouM</td>\n",
       "      <td>YM-99</td>\n",
       "      <td>16100</td>\n",
       "      <td>112700</td>\n",
       "      <td>9.456886</td>\n",
       "      <td>10657.910157</td>\n",
       "      <td>102042.089843</td>\n",
       "    </tr>\n",
       "    <tr>\n",
       "      <th>3</th>\n",
       "      <td>01-04-2021</td>\n",
       "      <td>Thursday</td>\n",
       "      <td>M04</td>\n",
       "      <td>C</td>\n",
       "      <td>6</td>\n",
       "      <td>Mobiles</td>\n",
       "      <td>YouM</td>\n",
       "      <td>YM-99 Plus</td>\n",
       "      <td>20100</td>\n",
       "      <td>120600</td>\n",
       "      <td>6.935385</td>\n",
       "      <td>8364.074702</td>\n",
       "      <td>112235.925298</td>\n",
       "    </tr>\n",
       "    <tr>\n",
       "      <th>4</th>\n",
       "      <td>01-04-2021</td>\n",
       "      <td>Thursday</td>\n",
       "      <td>M05</td>\n",
       "      <td>C</td>\n",
       "      <td>3</td>\n",
       "      <td>Mobiles</td>\n",
       "      <td>YouM</td>\n",
       "      <td>YM-98</td>\n",
       "      <td>8100</td>\n",
       "      <td>24300</td>\n",
       "      <td>17.995663</td>\n",
       "      <td>4372.946230</td>\n",
       "      <td>19927.053770</td>\n",
       "    </tr>\n",
       "  </tbody>\n",
       "</table>\n",
       "</div>"
      ],
      "text/plain": [
       "         Date       Day  SKU City  Volume       BU  Brand       Model  \\\n",
       "0  01-04-2021  Thursday  M01    C      15  Mobiles  RealU       RU-10   \n",
       "1  01-04-2021  Thursday  M02    C      10  Mobiles  RealU   RU-9 Plus   \n",
       "2  01-04-2021  Thursday  M03    C       7  Mobiles   YouM       YM-99   \n",
       "3  01-04-2021  Thursday  M04    C       6  Mobiles   YouM  YM-99 Plus   \n",
       "4  01-04-2021  Thursday  M05    C       3  Mobiles   YouM      YM-98    \n",
       "\n",
       "   Avg Price  Total Sales Value  Discount Rate (%)  Discount Amount  \\\n",
       "0      12100             181500          11.654820     21153.498820   \n",
       "1      10100             101000          11.560498     11676.102961   \n",
       "2      16100             112700           9.456886     10657.910157   \n",
       "3      20100             120600           6.935385      8364.074702   \n",
       "4       8100              24300          17.995663      4372.946230   \n",
       "\n",
       "   Net Sales Value  \n",
       "0    160346.501180  \n",
       "1     89323.897039  \n",
       "2    102042.089843  \n",
       "3    112235.925298  \n",
       "4     19927.053770  "
      ]
     },
     "execution_count": 80,
     "metadata": {},
     "output_type": "execute_result"
    }
   ],
   "source": [
    "data.head()"
   ]
  },
  {
   "cell_type": "code",
   "execution_count": 82,
   "id": "c6f6adce-d316-4ca0-838c-36c98710738a",
   "metadata": {},
   "outputs": [
    {
     "data": {
      "text/html": [
       "<div>\n",
       "<style scoped>\n",
       "    .dataframe tbody tr th:only-of-type {\n",
       "        vertical-align: middle;\n",
       "    }\n",
       "\n",
       "    .dataframe tbody tr th {\n",
       "        vertical-align: top;\n",
       "    }\n",
       "\n",
       "    .dataframe thead th {\n",
       "        text-align: right;\n",
       "    }\n",
       "</style>\n",
       "<table border=\"1\" class=\"dataframe\">\n",
       "  <thead>\n",
       "    <tr style=\"text-align: right;\">\n",
       "      <th></th>\n",
       "      <th>Date</th>\n",
       "      <th>Day</th>\n",
       "      <th>SKU</th>\n",
       "      <th>City</th>\n",
       "      <th>Volume</th>\n",
       "      <th>BU</th>\n",
       "      <th>Brand</th>\n",
       "      <th>Model</th>\n",
       "      <th>Avg Price</th>\n",
       "      <th>Total Sales Value</th>\n",
       "      <th>Discount Rate (%)</th>\n",
       "      <th>Discount Amount</th>\n",
       "      <th>Net Sales Value</th>\n",
       "    </tr>\n",
       "  </thead>\n",
       "  <tbody>\n",
       "    <tr>\n",
       "      <th>445</th>\n",
       "      <td>15-04-2021</td>\n",
       "      <td>Thursday</td>\n",
       "      <td>L06</td>\n",
       "      <td>C</td>\n",
       "      <td>2</td>\n",
       "      <td>Lifestyle</td>\n",
       "      <td>Jeera</td>\n",
       "      <td>M-Casuals</td>\n",
       "      <td>1300</td>\n",
       "      <td>2600</td>\n",
       "      <td>15.475687</td>\n",
       "      <td>402.367873</td>\n",
       "      <td>2197.632127</td>\n",
       "    </tr>\n",
       "    <tr>\n",
       "      <th>446</th>\n",
       "      <td>15-04-2021</td>\n",
       "      <td>Thursday</td>\n",
       "      <td>L07</td>\n",
       "      <td>C</td>\n",
       "      <td>6</td>\n",
       "      <td>Lifestyle</td>\n",
       "      <td>Viva</td>\n",
       "      <td>W-Western</td>\n",
       "      <td>2600</td>\n",
       "      <td>15600</td>\n",
       "      <td>17.057027</td>\n",
       "      <td>2660.896242</td>\n",
       "      <td>12939.103758</td>\n",
       "    </tr>\n",
       "    <tr>\n",
       "      <th>447</th>\n",
       "      <td>15-04-2021</td>\n",
       "      <td>Thursday</td>\n",
       "      <td>L08</td>\n",
       "      <td>C</td>\n",
       "      <td>2</td>\n",
       "      <td>Lifestyle</td>\n",
       "      <td>Viva</td>\n",
       "      <td>W-Lounge</td>\n",
       "      <td>1600</td>\n",
       "      <td>3200</td>\n",
       "      <td>18.965550</td>\n",
       "      <td>606.897606</td>\n",
       "      <td>2593.102394</td>\n",
       "    </tr>\n",
       "    <tr>\n",
       "      <th>448</th>\n",
       "      <td>15-04-2021</td>\n",
       "      <td>Thursday</td>\n",
       "      <td>L09</td>\n",
       "      <td>C</td>\n",
       "      <td>3</td>\n",
       "      <td>Lifestyle</td>\n",
       "      <td>Jeera</td>\n",
       "      <td>M-Formals</td>\n",
       "      <td>1900</td>\n",
       "      <td>5700</td>\n",
       "      <td>16.793014</td>\n",
       "      <td>957.201826</td>\n",
       "      <td>4742.798174</td>\n",
       "    </tr>\n",
       "    <tr>\n",
       "      <th>449</th>\n",
       "      <td>15-04-2021</td>\n",
       "      <td>Thursday</td>\n",
       "      <td>L10</td>\n",
       "      <td>C</td>\n",
       "      <td>1</td>\n",
       "      <td>Lifestyle</td>\n",
       "      <td>Jeera</td>\n",
       "      <td>M-Shoes</td>\n",
       "      <td>3100</td>\n",
       "      <td>3100</td>\n",
       "      <td>15.333300</td>\n",
       "      <td>475.332295</td>\n",
       "      <td>2624.667705</td>\n",
       "    </tr>\n",
       "  </tbody>\n",
       "</table>\n",
       "</div>"
      ],
      "text/plain": [
       "           Date       Day  SKU City  Volume         BU  Brand      Model  \\\n",
       "445  15-04-2021  Thursday  L06    C       2  Lifestyle  Jeera  M-Casuals   \n",
       "446  15-04-2021  Thursday  L07    C       6  Lifestyle   Viva  W-Western   \n",
       "447  15-04-2021  Thursday  L08    C       2  Lifestyle   Viva   W-Lounge   \n",
       "448  15-04-2021  Thursday  L09    C       3  Lifestyle  Jeera  M-Formals   \n",
       "449  15-04-2021  Thursday  L10    C       1  Lifestyle  Jeera    M-Shoes   \n",
       "\n",
       "     Avg Price  Total Sales Value  Discount Rate (%)  Discount Amount  \\\n",
       "445       1300               2600          15.475687       402.367873   \n",
       "446       2600              15600          17.057027      2660.896242   \n",
       "447       1600               3200          18.965550       606.897606   \n",
       "448       1900               5700          16.793014       957.201826   \n",
       "449       3100               3100          15.333300       475.332295   \n",
       "\n",
       "     Net Sales Value  \n",
       "445      2197.632127  \n",
       "446     12939.103758  \n",
       "447      2593.102394  \n",
       "448      4742.798174  \n",
       "449      2624.667705  "
      ]
     },
     "execution_count": 82,
     "metadata": {},
     "output_type": "execute_result"
    }
   ],
   "source": [
    "data.tail()"
   ]
  },
  {
   "cell_type": "code",
   "execution_count": 84,
   "id": "4b829aeb-590f-410e-a612-3e0a0484b54e",
   "metadata": {},
   "outputs": [
    {
     "data": {
      "text/plain": [
       "Date                  object\n",
       "Day                   object\n",
       "SKU                   object\n",
       "City                  object\n",
       "Volume                 int64\n",
       "BU                    object\n",
       "Brand                 object\n",
       "Model                 object\n",
       "Avg Price              int64\n",
       "Total Sales Value      int64\n",
       "Discount Rate (%)    float64\n",
       "Discount Amount      float64\n",
       "Net Sales Value      float64\n",
       "dtype: object"
      ]
     },
     "execution_count": 84,
     "metadata": {},
     "output_type": "execute_result"
    }
   ],
   "source": [
    "data.dtypes"
   ]
  },
  {
   "cell_type": "code",
   "execution_count": 86,
   "id": "cb1addcc-2e5f-4a9a-846f-83e6ab7ef82a",
   "metadata": {},
   "outputs": [
    {
     "data": {
      "text/html": [
       "<div>\n",
       "<style scoped>\n",
       "    .dataframe tbody tr th:only-of-type {\n",
       "        vertical-align: middle;\n",
       "    }\n",
       "\n",
       "    .dataframe tbody tr th {\n",
       "        vertical-align: top;\n",
       "    }\n",
       "\n",
       "    .dataframe thead th {\n",
       "        text-align: right;\n",
       "    }\n",
       "</style>\n",
       "<table border=\"1\" class=\"dataframe\">\n",
       "  <thead>\n",
       "    <tr style=\"text-align: right;\">\n",
       "      <th></th>\n",
       "      <th>Volume</th>\n",
       "      <th>Avg Price</th>\n",
       "      <th>Total Sales Value</th>\n",
       "      <th>Discount Rate (%)</th>\n",
       "      <th>Discount Amount</th>\n",
       "      <th>Net Sales Value</th>\n",
       "    </tr>\n",
       "  </thead>\n",
       "  <tbody>\n",
       "    <tr>\n",
       "      <th>count</th>\n",
       "      <td>450.000000</td>\n",
       "      <td>450.000000</td>\n",
       "      <td>450.000000</td>\n",
       "      <td>450.000000</td>\n",
       "      <td>450.000000</td>\n",
       "      <td>450.000000</td>\n",
       "    </tr>\n",
       "    <tr>\n",
       "      <th>mean</th>\n",
       "      <td>5.066667</td>\n",
       "      <td>10453.433333</td>\n",
       "      <td>33812.835556</td>\n",
       "      <td>15.155242</td>\n",
       "      <td>3346.499424</td>\n",
       "      <td>30466.336131</td>\n",
       "    </tr>\n",
       "    <tr>\n",
       "      <th>std</th>\n",
       "      <td>4.231602</td>\n",
       "      <td>18079.904840</td>\n",
       "      <td>50535.074173</td>\n",
       "      <td>4.220602</td>\n",
       "      <td>4509.902963</td>\n",
       "      <td>46358.656624</td>\n",
       "    </tr>\n",
       "    <tr>\n",
       "      <th>min</th>\n",
       "      <td>1.000000</td>\n",
       "      <td>290.000000</td>\n",
       "      <td>400.000000</td>\n",
       "      <td>5.007822</td>\n",
       "      <td>69.177942</td>\n",
       "      <td>326.974801</td>\n",
       "    </tr>\n",
       "    <tr>\n",
       "      <th>25%</th>\n",
       "      <td>3.000000</td>\n",
       "      <td>465.000000</td>\n",
       "      <td>2700.000000</td>\n",
       "      <td>13.965063</td>\n",
       "      <td>460.459304</td>\n",
       "      <td>2202.208645</td>\n",
       "    </tr>\n",
       "    <tr>\n",
       "      <th>50%</th>\n",
       "      <td>4.000000</td>\n",
       "      <td>1450.000000</td>\n",
       "      <td>5700.000000</td>\n",
       "      <td>16.577766</td>\n",
       "      <td>988.933733</td>\n",
       "      <td>4677.788059</td>\n",
       "    </tr>\n",
       "    <tr>\n",
       "      <th>75%</th>\n",
       "      <td>6.000000</td>\n",
       "      <td>10100.000000</td>\n",
       "      <td>53200.000000</td>\n",
       "      <td>18.114718</td>\n",
       "      <td>5316.495427</td>\n",
       "      <td>47847.912852</td>\n",
       "    </tr>\n",
       "    <tr>\n",
       "      <th>max</th>\n",
       "      <td>31.000000</td>\n",
       "      <td>60100.000000</td>\n",
       "      <td>196400.000000</td>\n",
       "      <td>19.992407</td>\n",
       "      <td>25738.022194</td>\n",
       "      <td>179507.479049</td>\n",
       "    </tr>\n",
       "  </tbody>\n",
       "</table>\n",
       "</div>"
      ],
      "text/plain": [
       "           Volume     Avg Price  Total Sales Value  Discount Rate (%)  \\\n",
       "count  450.000000    450.000000         450.000000         450.000000   \n",
       "mean     5.066667  10453.433333       33812.835556          15.155242   \n",
       "std      4.231602  18079.904840       50535.074173           4.220602   \n",
       "min      1.000000    290.000000         400.000000           5.007822   \n",
       "25%      3.000000    465.000000        2700.000000          13.965063   \n",
       "50%      4.000000   1450.000000        5700.000000          16.577766   \n",
       "75%      6.000000  10100.000000       53200.000000          18.114718   \n",
       "max     31.000000  60100.000000      196400.000000          19.992407   \n",
       "\n",
       "       Discount Amount  Net Sales Value  \n",
       "count       450.000000       450.000000  \n",
       "mean       3346.499424     30466.336131  \n",
       "std        4509.902963     46358.656624  \n",
       "min          69.177942       326.974801  \n",
       "25%         460.459304      2202.208645  \n",
       "50%         988.933733      4677.788059  \n",
       "75%        5316.495427     47847.912852  \n",
       "max       25738.022194    179507.479049  "
      ]
     },
     "execution_count": 86,
     "metadata": {},
     "output_type": "execute_result"
    }
   ],
   "source": [
    "data.describe()"
   ]
  },
  {
   "cell_type": "code",
   "execution_count": 88,
   "id": "01686918-dfbd-4240-9652-9e84068a72a5",
   "metadata": {},
   "outputs": [
    {
     "name": "stdout",
     "output_type": "stream",
     "text": [
      "<class 'pandas.core.frame.DataFrame'>\n",
      "RangeIndex: 450 entries, 0 to 449\n",
      "Data columns (total 13 columns):\n",
      " #   Column             Non-Null Count  Dtype  \n",
      "---  ------             --------------  -----  \n",
      " 0   Date               450 non-null    object \n",
      " 1   Day                450 non-null    object \n",
      " 2   SKU                450 non-null    object \n",
      " 3   City               450 non-null    object \n",
      " 4   Volume             450 non-null    int64  \n",
      " 5   BU                 450 non-null    object \n",
      " 6   Brand              450 non-null    object \n",
      " 7   Model              450 non-null    object \n",
      " 8   Avg Price          450 non-null    int64  \n",
      " 9   Total Sales Value  450 non-null    int64  \n",
      " 10  Discount Rate (%)  450 non-null    float64\n",
      " 11  Discount Amount    450 non-null    float64\n",
      " 12  Net Sales Value    450 non-null    float64\n",
      "dtypes: float64(3), int64(3), object(7)\n",
      "memory usage: 45.8+ KB\n"
     ]
    }
   ],
   "source": [
    "data.info()"
   ]
  },
  {
   "cell_type": "code",
   "execution_count": 90,
   "id": "5710469b-a6ed-4d42-85d0-6994eb20c22f",
   "metadata": {},
   "outputs": [
    {
     "data": {
      "text/html": [
       "<div>\n",
       "<style scoped>\n",
       "    .dataframe tbody tr th:only-of-type {\n",
       "        vertical-align: middle;\n",
       "    }\n",
       "\n",
       "    .dataframe tbody tr th {\n",
       "        vertical-align: top;\n",
       "    }\n",
       "\n",
       "    .dataframe thead th {\n",
       "        text-align: right;\n",
       "    }\n",
       "</style>\n",
       "<table border=\"1\" class=\"dataframe\">\n",
       "  <thead>\n",
       "    <tr style=\"text-align: right;\">\n",
       "      <th></th>\n",
       "      <th>Volume</th>\n",
       "      <th>Avg Price</th>\n",
       "      <th>Total Sales Value</th>\n",
       "      <th>Discount Rate (%)</th>\n",
       "      <th>Discount Amount</th>\n",
       "      <th>Net Sales Value</th>\n",
       "    </tr>\n",
       "  </thead>\n",
       "  <tbody>\n",
       "    <tr>\n",
       "      <th>0</th>\n",
       "      <td>15</td>\n",
       "      <td>12100</td>\n",
       "      <td>181500</td>\n",
       "      <td>11.654820</td>\n",
       "      <td>21153.498820</td>\n",
       "      <td>160346.501180</td>\n",
       "    </tr>\n",
       "    <tr>\n",
       "      <th>1</th>\n",
       "      <td>10</td>\n",
       "      <td>10100</td>\n",
       "      <td>101000</td>\n",
       "      <td>11.560498</td>\n",
       "      <td>11676.102961</td>\n",
       "      <td>89323.897039</td>\n",
       "    </tr>\n",
       "    <tr>\n",
       "      <th>2</th>\n",
       "      <td>7</td>\n",
       "      <td>16100</td>\n",
       "      <td>112700</td>\n",
       "      <td>9.456886</td>\n",
       "      <td>10657.910157</td>\n",
       "      <td>102042.089843</td>\n",
       "    </tr>\n",
       "    <tr>\n",
       "      <th>3</th>\n",
       "      <td>6</td>\n",
       "      <td>20100</td>\n",
       "      <td>120600</td>\n",
       "      <td>6.935385</td>\n",
       "      <td>8364.074702</td>\n",
       "      <td>112235.925298</td>\n",
       "    </tr>\n",
       "    <tr>\n",
       "      <th>4</th>\n",
       "      <td>3</td>\n",
       "      <td>8100</td>\n",
       "      <td>24300</td>\n",
       "      <td>17.995663</td>\n",
       "      <td>4372.946230</td>\n",
       "      <td>19927.053770</td>\n",
       "    </tr>\n",
       "    <tr>\n",
       "      <th>...</th>\n",
       "      <td>...</td>\n",
       "      <td>...</td>\n",
       "      <td>...</td>\n",
       "      <td>...</td>\n",
       "      <td>...</td>\n",
       "      <td>...</td>\n",
       "    </tr>\n",
       "    <tr>\n",
       "      <th>445</th>\n",
       "      <td>2</td>\n",
       "      <td>1300</td>\n",
       "      <td>2600</td>\n",
       "      <td>15.475687</td>\n",
       "      <td>402.367873</td>\n",
       "      <td>2197.632127</td>\n",
       "    </tr>\n",
       "    <tr>\n",
       "      <th>446</th>\n",
       "      <td>6</td>\n",
       "      <td>2600</td>\n",
       "      <td>15600</td>\n",
       "      <td>17.057027</td>\n",
       "      <td>2660.896242</td>\n",
       "      <td>12939.103758</td>\n",
       "    </tr>\n",
       "    <tr>\n",
       "      <th>447</th>\n",
       "      <td>2</td>\n",
       "      <td>1600</td>\n",
       "      <td>3200</td>\n",
       "      <td>18.965550</td>\n",
       "      <td>606.897606</td>\n",
       "      <td>2593.102394</td>\n",
       "    </tr>\n",
       "    <tr>\n",
       "      <th>448</th>\n",
       "      <td>3</td>\n",
       "      <td>1900</td>\n",
       "      <td>5700</td>\n",
       "      <td>16.793014</td>\n",
       "      <td>957.201826</td>\n",
       "      <td>4742.798174</td>\n",
       "    </tr>\n",
       "    <tr>\n",
       "      <th>449</th>\n",
       "      <td>1</td>\n",
       "      <td>3100</td>\n",
       "      <td>3100</td>\n",
       "      <td>15.333300</td>\n",
       "      <td>475.332295</td>\n",
       "      <td>2624.667705</td>\n",
       "    </tr>\n",
       "  </tbody>\n",
       "</table>\n",
       "<p>450 rows × 6 columns</p>\n",
       "</div>"
      ],
      "text/plain": [
       "     Volume  Avg Price  Total Sales Value  Discount Rate (%)  Discount Amount  \\\n",
       "0        15      12100             181500          11.654820     21153.498820   \n",
       "1        10      10100             101000          11.560498     11676.102961   \n",
       "2         7      16100             112700           9.456886     10657.910157   \n",
       "3         6      20100             120600           6.935385      8364.074702   \n",
       "4         3       8100              24300          17.995663      4372.946230   \n",
       "..      ...        ...                ...                ...              ...   \n",
       "445       2       1300               2600          15.475687       402.367873   \n",
       "446       6       2600              15600          17.057027      2660.896242   \n",
       "447       2       1600               3200          18.965550       606.897606   \n",
       "448       3       1900               5700          16.793014       957.201826   \n",
       "449       1       3100               3100          15.333300       475.332295   \n",
       "\n",
       "     Net Sales Value  \n",
       "0      160346.501180  \n",
       "1       89323.897039  \n",
       "2      102042.089843  \n",
       "3      112235.925298  \n",
       "4       19927.053770  \n",
       "..               ...  \n",
       "445      2197.632127  \n",
       "446     12939.103758  \n",
       "447      2593.102394  \n",
       "448      4742.798174  \n",
       "449      2624.667705  \n",
       "\n",
       "[450 rows x 6 columns]"
      ]
     },
     "execution_count": 90,
     "metadata": {},
     "output_type": "execute_result"
    }
   ],
   "source": [
    "data.select_dtypes([\"int64\",\"float64\"])\n"
   ]
  },
  {
   "cell_type": "code",
   "execution_count": 92,
   "id": "29cf5c4e-7b1d-4f6f-8199-824f8be373fc",
   "metadata": {},
   "outputs": [
    {
     "data": {
      "image/png": "[encoded data removed]",
      "text/plain": [
       "<Figure size 800x600 with 1 Axes>"
      ]
     },
     "metadata": {},
     "output_type": "display_data"
    }
   ],
   "source": [
    "plt.figure(figsize=(8,6))\n",
    "plt.axes(facecolor=\"black\")\n",
    "plt.hist(data.Volume,color=\"red\")\n",
    "plt.xlabel(\"Volume\")\n",
    "plt.ylabel(\"Density\")\n",
    "plt.title(\"Histogram\")\n",
    "plt.show()\n"
   ]
  },
  {
   "cell_type": "code",
   "execution_count": 94,
   "id": "ebf173d0-2560-4c3b-91f9-37fe30023c24",
   "metadata": {},
   "outputs": [
    {
     "data": {
      "text/plain": [
       "Text(0.5, 0, 'Volume')"
      ]
     },
     "execution_count": 94,
     "metadata": {},
     "output_type": "execute_result"
    },
    {
     "data": {
      "image/png": "[encoded data removed]",
      "text/plain": [
       "<Figure size 640x480 with 1 Axes>"
      ]
     },
     "metadata": {},
     "output_type": "display_data"
    }
   ],
   "source": [
    "plt.boxplot(data.Volume)\n",
    "plt.xlabel(\"Volume\")"
   ]
  },
  {
   "cell_type": "code",
   "execution_count": 96,
   "id": "b07d0fed-20a3-4c67-bea3-d94b22f1d25f",
   "metadata": {},
   "outputs": [
    {
     "data": {
      "image/png": "[encoded data removed]",
      "text/plain": [
       "<Figure size 600x400 with 1 Axes>"
      ]
     },
     "metadata": {},
     "output_type": "display_data"
    }
   ],
   "source": [
    "plt.figure(figsize=(6,4))\n",
    "plt.axes(facecolor=\"black\")\n",
    "plt.hist(data[\"Avg Price\"],facecolor=\"red\")\n",
    "plt.xlabel(\"Avg Price\")\n",
    "plt.ylabel(\"Density\")\n",
    "plt.title(\"Histogram\")\n",
    "plt.show()"
   ]
  },
  {
   "cell_type": "code",
   "execution_count": 98,
   "id": "a818576e-5d89-4721-996e-998241825509",
   "metadata": {},
   "outputs": [
    {
     "data": {
      "text/plain": [
       "Text(0.5, 0, 'Avg Price')"
      ]
     },
     "execution_count": 98,
     "metadata": {},
     "output_type": "execute_result"
    },
    {
     "data": {
      "image/png": "[encoded data removed]",
      "text/plain": [
       "<Figure size 640x480 with 1 Axes>"
      ]
     },
     "metadata": {},
     "output_type": "display_data"
    }
   ],
   "source": [
    "plt.boxplot(data[\"Avg Price\"])\n",
    "plt.xlabel(\"Avg Price\")"
   ]
  },
  {
   "cell_type": "code",
   "execution_count": 100,
   "id": "1254e2a9-438f-4aac-8ffe-c5fef6c3d59a",
   "metadata": {},
   "outputs": [
    {
     "data": {
      "image/png": "[encoded data removed]",
      "text/plain": [
       "<Figure size 600x400 with 1 Axes>"
      ]
     },
     "metadata": {},
     "output_type": "display_data"
    }
   ],
   "source": [
    "plt.figure(figsize=(6,4))\n",
    "plt.axes(facecolor=\"black\")\n",
    "plt.hist(data[\"Total Sales Value\"],facecolor=\"red\")\n",
    "plt.xlabel(\"Total Sales \")\n",
    "plt.ylabel(\"Density\")\n",
    "plt.title(\"Histogram\")\n",
    "plt.show()"
   ]
  },
  {
   "cell_type": "code",
   "execution_count": 102,
   "id": "a5bffd1d-d0c1-41ec-99e8-b989dab9b2c2",
   "metadata": {},
   "outputs": [
    {
     "data": {
      "text/plain": [
       "Text(0.5, 0, 'Total sales Values')"
      ]
     },
     "execution_count": 102,
     "metadata": {},
     "output_type": "execute_result"
    },
    {
     "data": {
      "image/png": "[encoded data removed]",
      "text/plain": [
       "<Figure size 640x480 with 1 Axes>"
      ]
     },
     "metadata": {},
     "output_type": "display_data"
    }
   ],
   "source": [
    "plt.boxplot(data[\"Total Sales Value\"])\n",
    "plt.xlabel(\"Total sales Values\")"
   ]
  },
  {
   "cell_type": "code",
   "execution_count": 104,
   "id": "3774c98d-291f-4079-a41a-8c7934c0d122",
   "metadata": {},
   "outputs": [
    {
     "data": {
      "text/html": [
       "<div>\n",
       "<style scoped>\n",
       "    .dataframe tbody tr th:only-of-type {\n",
       "        vertical-align: middle;\n",
       "    }\n",
       "\n",
       "    .dataframe tbody tr th {\n",
       "        vertical-align: top;\n",
       "    }\n",
       "\n",
       "    .dataframe thead th {\n",
       "        text-align: right;\n",
       "    }\n",
       "</style>\n",
       "<table border=\"1\" class=\"dataframe\">\n",
       "  <thead>\n",
       "    <tr style=\"text-align: right;\">\n",
       "      <th></th>\n",
       "      <th>Volume</th>\n",
       "      <th>Avg Price</th>\n",
       "      <th>Total Sales Value</th>\n",
       "      <th>Discount Rate (%)</th>\n",
       "      <th>Discount Amount</th>\n",
       "      <th>Net Sales Value</th>\n",
       "    </tr>\n",
       "  </thead>\n",
       "  <tbody>\n",
       "    <tr>\n",
       "      <th>0</th>\n",
       "      <td>15</td>\n",
       "      <td>12100</td>\n",
       "      <td>181500</td>\n",
       "      <td>11.654820</td>\n",
       "      <td>21153.498820</td>\n",
       "      <td>160346.501180</td>\n",
       "    </tr>\n",
       "    <tr>\n",
       "      <th>1</th>\n",
       "      <td>10</td>\n",
       "      <td>10100</td>\n",
       "      <td>101000</td>\n",
       "      <td>11.560498</td>\n",
       "      <td>11676.102961</td>\n",
       "      <td>89323.897039</td>\n",
       "    </tr>\n",
       "    <tr>\n",
       "      <th>2</th>\n",
       "      <td>7</td>\n",
       "      <td>16100</td>\n",
       "      <td>112700</td>\n",
       "      <td>9.456886</td>\n",
       "      <td>10657.910157</td>\n",
       "      <td>102042.089843</td>\n",
       "    </tr>\n",
       "    <tr>\n",
       "      <th>3</th>\n",
       "      <td>6</td>\n",
       "      <td>20100</td>\n",
       "      <td>120600</td>\n",
       "      <td>6.935385</td>\n",
       "      <td>8364.074702</td>\n",
       "      <td>112235.925298</td>\n",
       "    </tr>\n",
       "    <tr>\n",
       "      <th>4</th>\n",
       "      <td>3</td>\n",
       "      <td>8100</td>\n",
       "      <td>24300</td>\n",
       "      <td>17.995663</td>\n",
       "      <td>4372.946230</td>\n",
       "      <td>19927.053770</td>\n",
       "    </tr>\n",
       "    <tr>\n",
       "      <th>...</th>\n",
       "      <td>...</td>\n",
       "      <td>...</td>\n",
       "      <td>...</td>\n",
       "      <td>...</td>\n",
       "      <td>...</td>\n",
       "      <td>...</td>\n",
       "    </tr>\n",
       "    <tr>\n",
       "      <th>445</th>\n",
       "      <td>2</td>\n",
       "      <td>1300</td>\n",
       "      <td>2600</td>\n",
       "      <td>15.475687</td>\n",
       "      <td>402.367873</td>\n",
       "      <td>2197.632127</td>\n",
       "    </tr>\n",
       "    <tr>\n",
       "      <th>446</th>\n",
       "      <td>6</td>\n",
       "      <td>2600</td>\n",
       "      <td>15600</td>\n",
       "      <td>17.057027</td>\n",
       "      <td>2660.896242</td>\n",
       "      <td>12939.103758</td>\n",
       "    </tr>\n",
       "    <tr>\n",
       "      <th>447</th>\n",
       "      <td>2</td>\n",
       "      <td>1600</td>\n",
       "      <td>3200</td>\n",
       "      <td>18.965550</td>\n",
       "      <td>606.897606</td>\n",
       "      <td>2593.102394</td>\n",
       "    </tr>\n",
       "    <tr>\n",
       "      <th>448</th>\n",
       "      <td>3</td>\n",
       "      <td>1900</td>\n",
       "      <td>5700</td>\n",
       "      <td>16.793014</td>\n",
       "      <td>957.201826</td>\n",
       "      <td>4742.798174</td>\n",
       "    </tr>\n",
       "    <tr>\n",
       "      <th>449</th>\n",
       "      <td>1</td>\n",
       "      <td>3100</td>\n",
       "      <td>3100</td>\n",
       "      <td>15.333300</td>\n",
       "      <td>475.332295</td>\n",
       "      <td>2624.667705</td>\n",
       "    </tr>\n",
       "  </tbody>\n",
       "</table>\n",
       "<p>450 rows × 6 columns</p>\n",
       "</div>"
      ],
      "text/plain": [
       "     Volume  Avg Price  Total Sales Value  Discount Rate (%)  Discount Amount  \\\n",
       "0        15      12100             181500          11.654820     21153.498820   \n",
       "1        10      10100             101000          11.560498     11676.102961   \n",
       "2         7      16100             112700           9.456886     10657.910157   \n",
       "3         6      20100             120600           6.935385      8364.074702   \n",
       "4         3       8100              24300          17.995663      4372.946230   \n",
       "..      ...        ...                ...                ...              ...   \n",
       "445       2       1300               2600          15.475687       402.367873   \n",
       "446       6       2600              15600          17.057027      2660.896242   \n",
       "447       2       1600               3200          18.965550       606.897606   \n",
       "448       3       1900               5700          16.793014       957.201826   \n",
       "449       1       3100               3100          15.333300       475.332295   \n",
       "\n",
       "     Net Sales Value  \n",
       "0      160346.501180  \n",
       "1       89323.897039  \n",
       "2      102042.089843  \n",
       "3      112235.925298  \n",
       "4       19927.053770  \n",
       "..               ...  \n",
       "445      2197.632127  \n",
       "446     12939.103758  \n",
       "447      2593.102394  \n",
       "448      4742.798174  \n",
       "449      2624.667705  \n",
       "\n",
       "[450 rows x 6 columns]"
      ]
     },
     "execution_count": 104,
     "metadata": {},
     "output_type": "execute_result"
    }
   ],
   "source": [
    "data.select_dtypes([\"int64\",\"float64\"])"
   ]
  },
  {
   "cell_type": "code",
   "execution_count": 106,
   "id": "ce7e4151-982b-4d2e-bb7a-39eb10cfe566",
   "metadata": {},
   "outputs": [
    {
     "data": {
      "text/html": [
       "<div>\n",
       "<style scoped>\n",
       "    .dataframe tbody tr th:only-of-type {\n",
       "        vertical-align: middle;\n",
       "    }\n",
       "\n",
       "    .dataframe tbody tr th {\n",
       "        vertical-align: top;\n",
       "    }\n",
       "\n",
       "    .dataframe thead th {\n",
       "        text-align: right;\n",
       "    }\n",
       "</style>\n",
       "<table border=\"1\" class=\"dataframe\">\n",
       "  <thead>\n",
       "    <tr style=\"text-align: right;\">\n",
       "      <th></th>\n",
       "      <th>Volume</th>\n",
       "      <th>Avg Price</th>\n",
       "      <th>Total Sales Value</th>\n",
       "      <th>Discount Rate (%)</th>\n",
       "      <th>Discount Amount</th>\n",
       "      <th>Net Sales Value</th>\n",
       "    </tr>\n",
       "  </thead>\n",
       "  <tbody>\n",
       "    <tr>\n",
       "      <th>count</th>\n",
       "      <td>450.000000</td>\n",
       "      <td>450.000000</td>\n",
       "      <td>450.000000</td>\n",
       "      <td>450.000000</td>\n",
       "      <td>450.000000</td>\n",
       "      <td>450.000000</td>\n",
       "    </tr>\n",
       "    <tr>\n",
       "      <th>mean</th>\n",
       "      <td>5.066667</td>\n",
       "      <td>10453.433333</td>\n",
       "      <td>33812.835556</td>\n",
       "      <td>15.155242</td>\n",
       "      <td>3346.499424</td>\n",
       "      <td>30466.336131</td>\n",
       "    </tr>\n",
       "    <tr>\n",
       "      <th>std</th>\n",
       "      <td>4.231602</td>\n",
       "      <td>18079.904840</td>\n",
       "      <td>50535.074173</td>\n",
       "      <td>4.220602</td>\n",
       "      <td>4509.902963</td>\n",
       "      <td>46358.656624</td>\n",
       "    </tr>\n",
       "    <tr>\n",
       "      <th>min</th>\n",
       "      <td>1.000000</td>\n",
       "      <td>290.000000</td>\n",
       "      <td>400.000000</td>\n",
       "      <td>5.007822</td>\n",
       "      <td>69.177942</td>\n",
       "      <td>326.974801</td>\n",
       "    </tr>\n",
       "    <tr>\n",
       "      <th>25%</th>\n",
       "      <td>3.000000</td>\n",
       "      <td>465.000000</td>\n",
       "      <td>2700.000000</td>\n",
       "      <td>13.965063</td>\n",
       "      <td>460.459304</td>\n",
       "      <td>2202.208645</td>\n",
       "    </tr>\n",
       "    <tr>\n",
       "      <th>50%</th>\n",
       "      <td>4.000000</td>\n",
       "      <td>1450.000000</td>\n",
       "      <td>5700.000000</td>\n",
       "      <td>16.577766</td>\n",
       "      <td>988.933733</td>\n",
       "      <td>4677.788059</td>\n",
       "    </tr>\n",
       "    <tr>\n",
       "      <th>75%</th>\n",
       "      <td>6.000000</td>\n",
       "      <td>10100.000000</td>\n",
       "      <td>53200.000000</td>\n",
       "      <td>18.114718</td>\n",
       "      <td>5316.495427</td>\n",
       "      <td>47847.912852</td>\n",
       "    </tr>\n",
       "    <tr>\n",
       "      <th>max</th>\n",
       "      <td>31.000000</td>\n",
       "      <td>60100.000000</td>\n",
       "      <td>196400.000000</td>\n",
       "      <td>19.992407</td>\n",
       "      <td>25738.022194</td>\n",
       "      <td>179507.479049</td>\n",
       "    </tr>\n",
       "  </tbody>\n",
       "</table>\n",
       "</div>"
      ],
      "text/plain": [
       "           Volume     Avg Price  Total Sales Value  Discount Rate (%)  \\\n",
       "count  450.000000    450.000000         450.000000         450.000000   \n",
       "mean     5.066667  10453.433333       33812.835556          15.155242   \n",
       "std      4.231602  18079.904840       50535.074173           4.220602   \n",
       "min      1.000000    290.000000         400.000000           5.007822   \n",
       "25%      3.000000    465.000000        2700.000000          13.965063   \n",
       "50%      4.000000   1450.000000        5700.000000          16.577766   \n",
       "75%      6.000000  10100.000000       53200.000000          18.114718   \n",
       "max     31.000000  60100.000000      196400.000000          19.992407   \n",
       "\n",
       "       Discount Amount  Net Sales Value  \n",
       "count       450.000000       450.000000  \n",
       "mean       3346.499424     30466.336131  \n",
       "std        4509.902963     46358.656624  \n",
       "min          69.177942       326.974801  \n",
       "25%         460.459304      2202.208645  \n",
       "50%         988.933733      4677.788059  \n",
       "75%        5316.495427     47847.912852  \n",
       "max       25738.022194    179507.479049  "
      ]
     },
     "execution_count": 106,
     "metadata": {},
     "output_type": "execute_result"
    }
   ],
   "source": [
    "data.describe()"
   ]
  },
  {
   "cell_type": "code",
   "execution_count": 17,
   "id": "bfbeed81-a5d6-4556-be9a-b56d3222c3a0",
   "metadata": {},
   "outputs": [
    {
     "data": {
      "text/plain": [
       "Text(0.5, 0.98, 'Histogram for Numerical Columns')"
      ]
     },
     "execution_count": 17,
     "metadata": {},
     "output_type": "execute_result"
    },
    {
     "data": {
      "image/png": "[encoded data removed]",
      "text/plain": [
       "<Figure size 1200x800 with 6 Axes>"
      ]
     },
     "metadata": {},
     "output_type": "display_data"
    }
   ],
   "source": [
    "data.select_dtypes([\"int64\",\"float64\"]).hist(figsize=(12,8),color=\"peru\")\n",
    "plt.suptitle(\"Histogram for Numerical Columns\",color=\"Blue\",size=20)"
   ]
  },
  {
   "cell_type": "code",
   "execution_count": 110,
   "id": "48490523-dd30-4bd6-99b9-e4588fe03ad3",
   "metadata": {},
   "outputs": [
    {
     "data": {
      "text/plain": [
       "<Axes: >"
      ]
     },
     "execution_count": 110,
     "metadata": {},
     "output_type": "execute_result"
    },
    {
     "data": {
      "image/png": "[encoded data removed]",
      "text/plain": [
       "<Figure size 640x480 with 1 Axes>"
      ]
     },
     "metadata": {},
     "output_type": "display_data"
    }
   ],
   "source": [
    "data['Volume'].plot(kind=\"box\")"
   ]
  },
  {
   "cell_type": "code",
   "execution_count": 19,
   "id": "83013958-da4f-4142-8692-f5ae184fcccd",
   "metadata": {},
   "outputs": [
    {
     "data": {
      "text/plain": [
       "<Axes: >"
      ]
     },
     "execution_count": 19,
     "metadata": {},
     "output_type": "execute_result"
    },
    {
     "data": {
      "image/png": "[encoded data removed]",
      "text/plain": [
       "<Figure size 640x480 with 1 Axes>"
      ]
     },
     "metadata": {},
     "output_type": "display_data"
    }
   ],
   "source": [
    "data['Avg Price'].plot(kind=\"box\")"
   ]
  },
  {
   "cell_type": "code",
   "execution_count": 20,
   "id": "6120294f-e8f0-4f5f-b71c-d6cd77e42ff7",
   "metadata": {},
   "outputs": [
    {
     "data": {
      "text/plain": [
       "<Axes: >"
      ]
     },
     "execution_count": 20,
     "metadata": {},
     "output_type": "execute_result"
    },
    {
     "data": {
      "image/png": "[encoded data removed]",
      "text/plain": [
       "<Figure size 640x480 with 1 Axes>"
      ]
     },
     "metadata": {},
     "output_type": "display_data"
    }
   ],
   "source": [
    "data['Total Sales Value'].plot(kind=\"box\")"
   ]
  },
  {
   "cell_type": "code",
   "execution_count": 21,
   "id": "289b76d7-d670-4e29-a972-1beee7cda212",
   "metadata": {},
   "outputs": [
    {
     "data": {
      "text/plain": [
       "<Axes: >"
      ]
     },
     "execution_count": 21,
     "metadata": {},
     "output_type": "execute_result"
    },
    {
     "data": {
      "image/png": "[encoded data removed]",
      "text/plain": [
       "<Figure size 640x480 with 1 Axes>"
      ]
     },
     "metadata": {},
     "output_type": "display_data"
    }
   ],
   "source": [
    "data['Discount Rate (%)'].plot(kind=\"box\")\n"
   ]
  },
  {
   "cell_type": "code",
   "execution_count": 22,
   "id": "5ecee482-5fcf-4296-a8ec-ba7c035b11d9",
   "metadata": {},
   "outputs": [
    {
     "data": {
      "text/plain": [
       "<Axes: >"
      ]
     },
     "execution_count": 22,
     "metadata": {},
     "output_type": "execute_result"
    },
    {
     "data": {
      "image/png": "[encoded data removed]",
      "text/plain": [
       "<Figure size 640x480 with 1 Axes>"
      ]
     },
     "metadata": {},
     "output_type": "display_data"
    }
   ],
   "source": [
    "data['Discount Amount'].plot(kind=\"box\")"
   ]
  },
  {
   "cell_type": "code",
   "execution_count": 23,
   "id": "894a6491-3b08-4017-97ce-b76683af5632",
   "metadata": {},
   "outputs": [
    {
     "data": {
      "text/plain": [
       "<Axes: >"
      ]
     },
     "execution_count": 23,
     "metadata": {},
     "output_type": "execute_result"
    },
    {
     "data": {
      "image/png": "[encoded data removed]",
      "text/plain": [
       "<Figure size 640x480 with 1 Axes>"
      ]
     },
     "metadata": {},
     "output_type": "display_data"
    }
   ],
   "source": [
    "data['Net Sales Value'].plot(kind=\"box\")"
   ]
  },
  {
   "cell_type": "code",
   "execution_count": 24,
   "id": "b18a61b4-30c5-495c-b1a9-241b33fc5c23",
   "metadata": {},
   "outputs": [
    {
     "data": {
      "text/html": [
       "<div>\n",
       "<style scoped>\n",
       "    .dataframe tbody tr th:only-of-type {\n",
       "        vertical-align: middle;\n",
       "    }\n",
       "\n",
       "    .dataframe tbody tr th {\n",
       "        vertical-align: top;\n",
       "    }\n",
       "\n",
       "    .dataframe thead th {\n",
       "        text-align: right;\n",
       "    }\n",
       "</style>\n",
       "<table border=\"1\" class=\"dataframe\">\n",
       "  <thead>\n",
       "    <tr style=\"text-align: right;\">\n",
       "      <th></th>\n",
       "      <th>Date</th>\n",
       "      <th>Day</th>\n",
       "      <th>SKU</th>\n",
       "      <th>City</th>\n",
       "      <th>BU</th>\n",
       "      <th>Brand</th>\n",
       "      <th>Model</th>\n",
       "    </tr>\n",
       "  </thead>\n",
       "  <tbody>\n",
       "    <tr>\n",
       "      <th>0</th>\n",
       "      <td>01-04-2021</td>\n",
       "      <td>Thursday</td>\n",
       "      <td>M01</td>\n",
       "      <td>C</td>\n",
       "      <td>Mobiles</td>\n",
       "      <td>RealU</td>\n",
       "      <td>RU-10</td>\n",
       "    </tr>\n",
       "    <tr>\n",
       "      <th>1</th>\n",
       "      <td>01-04-2021</td>\n",
       "      <td>Thursday</td>\n",
       "      <td>M02</td>\n",
       "      <td>C</td>\n",
       "      <td>Mobiles</td>\n",
       "      <td>RealU</td>\n",
       "      <td>RU-9 Plus</td>\n",
       "    </tr>\n",
       "    <tr>\n",
       "      <th>2</th>\n",
       "      <td>01-04-2021</td>\n",
       "      <td>Thursday</td>\n",
       "      <td>M03</td>\n",
       "      <td>C</td>\n",
       "      <td>Mobiles</td>\n",
       "      <td>YouM</td>\n",
       "      <td>YM-99</td>\n",
       "    </tr>\n",
       "    <tr>\n",
       "      <th>3</th>\n",
       "      <td>01-04-2021</td>\n",
       "      <td>Thursday</td>\n",
       "      <td>M04</td>\n",
       "      <td>C</td>\n",
       "      <td>Mobiles</td>\n",
       "      <td>YouM</td>\n",
       "      <td>YM-99 Plus</td>\n",
       "    </tr>\n",
       "    <tr>\n",
       "      <th>4</th>\n",
       "      <td>01-04-2021</td>\n",
       "      <td>Thursday</td>\n",
       "      <td>M05</td>\n",
       "      <td>C</td>\n",
       "      <td>Mobiles</td>\n",
       "      <td>YouM</td>\n",
       "      <td>YM-98</td>\n",
       "    </tr>\n",
       "    <tr>\n",
       "      <th>...</th>\n",
       "      <td>...</td>\n",
       "      <td>...</td>\n",
       "      <td>...</td>\n",
       "      <td>...</td>\n",
       "      <td>...</td>\n",
       "      <td>...</td>\n",
       "      <td>...</td>\n",
       "    </tr>\n",
       "    <tr>\n",
       "      <th>445</th>\n",
       "      <td>15-04-2021</td>\n",
       "      <td>Thursday</td>\n",
       "      <td>L06</td>\n",
       "      <td>C</td>\n",
       "      <td>Lifestyle</td>\n",
       "      <td>Jeera</td>\n",
       "      <td>M-Casuals</td>\n",
       "    </tr>\n",
       "    <tr>\n",
       "      <th>446</th>\n",
       "      <td>15-04-2021</td>\n",
       "      <td>Thursday</td>\n",
       "      <td>L07</td>\n",
       "      <td>C</td>\n",
       "      <td>Lifestyle</td>\n",
       "      <td>Viva</td>\n",
       "      <td>W-Western</td>\n",
       "    </tr>\n",
       "    <tr>\n",
       "      <th>447</th>\n",
       "      <td>15-04-2021</td>\n",
       "      <td>Thursday</td>\n",
       "      <td>L08</td>\n",
       "      <td>C</td>\n",
       "      <td>Lifestyle</td>\n",
       "      <td>Viva</td>\n",
       "      <td>W-Lounge</td>\n",
       "    </tr>\n",
       "    <tr>\n",
       "      <th>448</th>\n",
       "      <td>15-04-2021</td>\n",
       "      <td>Thursday</td>\n",
       "      <td>L09</td>\n",
       "      <td>C</td>\n",
       "      <td>Lifestyle</td>\n",
       "      <td>Jeera</td>\n",
       "      <td>M-Formals</td>\n",
       "    </tr>\n",
       "    <tr>\n",
       "      <th>449</th>\n",
       "      <td>15-04-2021</td>\n",
       "      <td>Thursday</td>\n",
       "      <td>L10</td>\n",
       "      <td>C</td>\n",
       "      <td>Lifestyle</td>\n",
       "      <td>Jeera</td>\n",
       "      <td>M-Shoes</td>\n",
       "    </tr>\n",
       "  </tbody>\n",
       "</table>\n",
       "<p>450 rows × 7 columns</p>\n",
       "</div>"
      ],
      "text/plain": [
       "           Date       Day  SKU City         BU  Brand       Model\n",
       "0    01-04-2021  Thursday  M01    C    Mobiles  RealU       RU-10\n",
       "1    01-04-2021  Thursday  M02    C    Mobiles  RealU   RU-9 Plus\n",
       "2    01-04-2021  Thursday  M03    C    Mobiles   YouM       YM-99\n",
       "3    01-04-2021  Thursday  M04    C    Mobiles   YouM  YM-99 Plus\n",
       "4    01-04-2021  Thursday  M05    C    Mobiles   YouM      YM-98 \n",
       "..          ...       ...  ...  ...        ...    ...         ...\n",
       "445  15-04-2021  Thursday  L06    C  Lifestyle  Jeera   M-Casuals\n",
       "446  15-04-2021  Thursday  L07    C  Lifestyle   Viva   W-Western\n",
       "447  15-04-2021  Thursday  L08    C  Lifestyle   Viva    W-Lounge\n",
       "448  15-04-2021  Thursday  L09    C  Lifestyle  Jeera   M-Formals\n",
       "449  15-04-2021  Thursday  L10    C  Lifestyle  Jeera     M-Shoes\n",
       "\n",
       "[450 rows x 7 columns]"
      ]
     },
     "execution_count": 24,
     "metadata": {},
     "output_type": "execute_result"
    }
   ],
   "source": [
    "data.select_dtypes(\"object\")"
   ]
  },
  {
   "cell_type": "code",
   "execution_count": 25,
   "id": "fd112389-c3ca-4bf9-bdd2-27b197c79486",
   "metadata": {},
   "outputs": [
    {
     "data": {
      "text/plain": [
       "<Axes: xlabel='Date'>"
      ]
     },
     "execution_count": 25,
     "metadata": {},
     "output_type": "execute_result"
    },
    {
     "data": {
      "image/png": "[encoded data removed]",
      "text/plain": [
       "<Figure size 640x480 with 1 Axes>"
      ]
     },
     "metadata": {},
     "output_type": "display_data"
    }
   ],
   "source": [
    "data['Date'].value_counts().plot(kind=\"bar\",color=\"peru\")"
   ]
  },
  {
   "cell_type": "code",
   "execution_count": 130,
   "id": "f94fbca4-be95-4166-8ffe-caabd3e61398",
   "metadata": {},
   "outputs": [
    {
     "data": {
      "text/plain": [
       "<Axes: xlabel='Day'>"
      ]
     },
     "execution_count": 130,
     "metadata": {},
     "output_type": "execute_result"
    },
    {
     "data": {
      "image/png": "[encoded data removed]",
      "text/plain": [
       "<Figure size 640x480 with 1 Axes>"
      ]
     },
     "metadata": {},
     "output_type": "display_data"
    }
   ],
   "source": [
    "data['Day'].value_counts().plot(kind=\"bar\",color=\"peru\")\n"
   ]
  },
  {
   "cell_type": "code",
   "execution_count": 132,
   "id": "f8cfa077-eb22-4659-a3ee-42a62e58424e",
   "metadata": {},
   "outputs": [
    {
     "data": {
      "text/plain": [
       "<Axes: xlabel='Day', ylabel='count'>"
      ]
     },
     "execution_count": 132,
     "metadata": {},
     "output_type": "execute_result"
    },
    {
     "data": {
      "image/png": "[encoded data removed]",
      "text/plain": [
       "<Figure size 640x480 with 1 Axes>"
      ]
     },
     "metadata": {},
     "output_type": "display_data"
    }
   ],
   "source": [
    "import seaborn as sns\n",
    "sns.countplot(data=data,x=\"Day\")"
   ]
  },
  {
   "cell_type": "code",
   "execution_count": 27,
   "id": "beb769fb-f3c9-4948-a2f3-f5879f0499d0",
   "metadata": {},
   "outputs": [
    {
     "data": {
      "text/plain": [
       "<Axes: xlabel='SKU'>"
      ]
     },
     "execution_count": 27,
     "metadata": {},
     "output_type": "execute_result"
    },
    {
     "data": {
      "image/png": "[encoded data removed]",
      "text/plain": [
       "<Figure size 640x480 with 1 Axes>"
      ]
     },
     "metadata": {},
     "output_type": "display_data"
    }
   ],
   "source": [
    "data['SKU'].value_counts().plot(kind=\"bar\",color=\"peru\")"
   ]
  },
  {
   "cell_type": "code",
   "execution_count": 28,
   "id": "de96c1d9-ca4a-48ad-b462-cb974593fcd6",
   "metadata": {},
   "outputs": [
    {
     "data": {
      "text/plain": [
       "<Axes: xlabel='City'>"
      ]
     },
     "execution_count": 28,
     "metadata": {},
     "output_type": "execute_result"
    },
    {
     "data": {
      "image/png": "[encoded data removed]",
      "text/plain": [
       "<Figure size 640x480 with 1 Axes>"
      ]
     },
     "metadata": {},
     "output_type": "display_data"
    }
   ],
   "source": [
    "data['City'].value_counts().plot(kind=\"bar\",color=\"peru\",width=0.1)"
   ]
  },
  {
   "cell_type": "code",
   "execution_count": 29,
   "id": "8f5efaa6-062c-4d83-8557-2b0d26e8052f",
   "metadata": {},
   "outputs": [
    {
     "data": {
      "text/plain": [
       "<Axes: xlabel='BU'>"
      ]
     },
     "execution_count": 29,
     "metadata": {},
     "output_type": "execute_result"
    },
    {
     "data": {
      "image/png": "[encoded data removed]",
      "text/plain": [
       "<Figure size 640x480 with 1 Axes>"
      ]
     },
     "metadata": {},
     "output_type": "display_data"
    }
   ],
   "source": [
    "data['BU'].value_counts().plot(kind=\"bar\",color=\"peru\")"
   ]
  },
  {
   "cell_type": "code",
   "execution_count": 30,
   "id": "cffae560-f116-474c-b6b4-d6068f6c0415",
   "metadata": {},
   "outputs": [
    {
     "data": {
      "text/plain": [
       "<Axes: xlabel='Brand'>"
      ]
     },
     "execution_count": 30,
     "metadata": {},
     "output_type": "execute_result"
    },
    {
     "data": {
      "image/png": "[encoded data removed]",
      "text/plain": [
       "<Figure size 640x480 with 1 Axes>"
      ]
     },
     "metadata": {},
     "output_type": "display_data"
    }
   ],
   "source": [
    "data['Brand'].value_counts().plot(kind=\"bar\",color=\"peru\")"
   ]
  },
  {
   "cell_type": "code",
   "execution_count": 31,
   "id": "caae5aa8-e1f5-49ca-9425-d1632f0092ab",
   "metadata": {},
   "outputs": [
    {
     "data": {
      "text/plain": [
       "<Axes: xlabel='Model'>"
      ]
     },
     "execution_count": 31,
     "metadata": {},
     "output_type": "execute_result"
    },
    {
     "data": {
      "image/png": "[encoded data removed]",
      "text/plain": [
       "<Figure size 1000x400 with 1 Axes>"
      ]
     },
     "metadata": {},
     "output_type": "display_data"
    }
   ],
   "source": [
    "data['Model'].value_counts().plot(kind=\"bar\",color=\"peru\",figsize=(10,4))"
   ]
  },
  {
   "cell_type": "code",
   "execution_count": 32,
   "id": "5ce0a52e-5815-4561-bb17-14ec6a9fff38",
   "metadata": {},
   "outputs": [
    {
     "data": {
      "text/html": [
       "<div>\n",
       "<style scoped>\n",
       "    .dataframe tbody tr th:only-of-type {\n",
       "        vertical-align: middle;\n",
       "    }\n",
       "\n",
       "    .dataframe tbody tr th {\n",
       "        vertical-align: top;\n",
       "    }\n",
       "\n",
       "    .dataframe thead th {\n",
       "        text-align: right;\n",
       "    }\n",
       "</style>\n",
       "<table border=\"1\" class=\"dataframe\">\n",
       "  <thead>\n",
       "    <tr style=\"text-align: right;\">\n",
       "      <th></th>\n",
       "      <th>Volume</th>\n",
       "      <th>Avg Price</th>\n",
       "      <th>Total Sales Value</th>\n",
       "      <th>Discount Rate (%)</th>\n",
       "      <th>Discount Amount</th>\n",
       "      <th>Net Sales Value</th>\n",
       "    </tr>\n",
       "  </thead>\n",
       "  <tbody>\n",
       "    <tr>\n",
       "      <th>0</th>\n",
       "      <td>15</td>\n",
       "      <td>12100</td>\n",
       "      <td>181500</td>\n",
       "      <td>11.654820</td>\n",
       "      <td>21153.498820</td>\n",
       "      <td>160346.501180</td>\n",
       "    </tr>\n",
       "    <tr>\n",
       "      <th>1</th>\n",
       "      <td>10</td>\n",
       "      <td>10100</td>\n",
       "      <td>101000</td>\n",
       "      <td>11.560498</td>\n",
       "      <td>11676.102961</td>\n",
       "      <td>89323.897039</td>\n",
       "    </tr>\n",
       "    <tr>\n",
       "      <th>2</th>\n",
       "      <td>7</td>\n",
       "      <td>16100</td>\n",
       "      <td>112700</td>\n",
       "      <td>9.456886</td>\n",
       "      <td>10657.910157</td>\n",
       "      <td>102042.089843</td>\n",
       "    </tr>\n",
       "    <tr>\n",
       "      <th>3</th>\n",
       "      <td>6</td>\n",
       "      <td>20100</td>\n",
       "      <td>120600</td>\n",
       "      <td>6.935385</td>\n",
       "      <td>8364.074702</td>\n",
       "      <td>112235.925298</td>\n",
       "    </tr>\n",
       "    <tr>\n",
       "      <th>4</th>\n",
       "      <td>3</td>\n",
       "      <td>8100</td>\n",
       "      <td>24300</td>\n",
       "      <td>17.995663</td>\n",
       "      <td>4372.946230</td>\n",
       "      <td>19927.053770</td>\n",
       "    </tr>\n",
       "    <tr>\n",
       "      <th>...</th>\n",
       "      <td>...</td>\n",
       "      <td>...</td>\n",
       "      <td>...</td>\n",
       "      <td>...</td>\n",
       "      <td>...</td>\n",
       "      <td>...</td>\n",
       "    </tr>\n",
       "    <tr>\n",
       "      <th>445</th>\n",
       "      <td>2</td>\n",
       "      <td>1300</td>\n",
       "      <td>2600</td>\n",
       "      <td>15.475687</td>\n",
       "      <td>402.367873</td>\n",
       "      <td>2197.632127</td>\n",
       "    </tr>\n",
       "    <tr>\n",
       "      <th>446</th>\n",
       "      <td>6</td>\n",
       "      <td>2600</td>\n",
       "      <td>15600</td>\n",
       "      <td>17.057027</td>\n",
       "      <td>2660.896242</td>\n",
       "      <td>12939.103758</td>\n",
       "    </tr>\n",
       "    <tr>\n",
       "      <th>447</th>\n",
       "      <td>2</td>\n",
       "      <td>1600</td>\n",
       "      <td>3200</td>\n",
       "      <td>18.965550</td>\n",
       "      <td>606.897606</td>\n",
       "      <td>2593.102394</td>\n",
       "    </tr>\n",
       "    <tr>\n",
       "      <th>448</th>\n",
       "      <td>3</td>\n",
       "      <td>1900</td>\n",
       "      <td>5700</td>\n",
       "      <td>16.793014</td>\n",
       "      <td>957.201826</td>\n",
       "      <td>4742.798174</td>\n",
       "    </tr>\n",
       "    <tr>\n",
       "      <th>449</th>\n",
       "      <td>1</td>\n",
       "      <td>3100</td>\n",
       "      <td>3100</td>\n",
       "      <td>15.333300</td>\n",
       "      <td>475.332295</td>\n",
       "      <td>2624.667705</td>\n",
       "    </tr>\n",
       "  </tbody>\n",
       "</table>\n",
       "<p>450 rows × 6 columns</p>\n",
       "</div>"
      ],
      "text/plain": [
       "     Volume  Avg Price  Total Sales Value  Discount Rate (%)  Discount Amount  \\\n",
       "0        15      12100             181500          11.654820     21153.498820   \n",
       "1        10      10100             101000          11.560498     11676.102961   \n",
       "2         7      16100             112700           9.456886     10657.910157   \n",
       "3         6      20100             120600           6.935385      8364.074702   \n",
       "4         3       8100              24300          17.995663      4372.946230   \n",
       "..      ...        ...                ...                ...              ...   \n",
       "445       2       1300               2600          15.475687       402.367873   \n",
       "446       6       2600              15600          17.057027      2660.896242   \n",
       "447       2       1600               3200          18.965550       606.897606   \n",
       "448       3       1900               5700          16.793014       957.201826   \n",
       "449       1       3100               3100          15.333300       475.332295   \n",
       "\n",
       "     Net Sales Value  \n",
       "0      160346.501180  \n",
       "1       89323.897039  \n",
       "2      102042.089843  \n",
       "3      112235.925298  \n",
       "4       19927.053770  \n",
       "..               ...  \n",
       "445      2197.632127  \n",
       "446     12939.103758  \n",
       "447      2593.102394  \n",
       "448      4742.798174  \n",
       "449      2624.667705  \n",
       "\n",
       "[450 rows x 6 columns]"
      ]
     },
     "execution_count": 32,
     "metadata": {},
     "output_type": "execute_result"
    }
   ],
   "source": [
    "data.select_dtypes(['int64','float64'])"
   ]
  },
  {
   "cell_type": "code",
   "execution_count": 33,
   "id": "25795c7b-f3ff-43a6-aaed-6dcd6eb60ae6",
   "metadata": {},
   "outputs": [
    {
     "data": {
      "text/html": [
       "<div>\n",
       "<style scoped>\n",
       "    .dataframe tbody tr th:only-of-type {\n",
       "        vertical-align: middle;\n",
       "    }\n",
       "\n",
       "    .dataframe tbody tr th {\n",
       "        vertical-align: top;\n",
       "    }\n",
       "\n",
       "    .dataframe thead th {\n",
       "        text-align: right;\n",
       "    }\n",
       "</style>\n",
       "<table border=\"1\" class=\"dataframe\">\n",
       "  <thead>\n",
       "    <tr style=\"text-align: right;\">\n",
       "      <th></th>\n",
       "      <th>Volume</th>\n",
       "      <th>Avg Price</th>\n",
       "      <th>Total Sales Value</th>\n",
       "      <th>Discount Rate (%)</th>\n",
       "      <th>Discount Amount</th>\n",
       "      <th>Net Sales Value</th>\n",
       "    </tr>\n",
       "  </thead>\n",
       "  <tbody>\n",
       "    <tr>\n",
       "      <th>0</th>\n",
       "      <td>2.347417</td>\n",
       "      <td>0.091072</td>\n",
       "      <td>2.922469</td>\n",
       "      <td>-0.829365</td>\n",
       "      <td>3.948422</td>\n",
       "      <td>2.801638</td>\n",
       "    </tr>\n",
       "    <tr>\n",
       "      <th>1</th>\n",
       "      <td>1.165831</td>\n",
       "      <td>-0.019548</td>\n",
       "      <td>1.329516</td>\n",
       "      <td>-0.851714</td>\n",
       "      <td>1.846958</td>\n",
       "      <td>1.269613</td>\n",
       "    </tr>\n",
       "    <tr>\n",
       "      <th>2</th>\n",
       "      <td>0.456880</td>\n",
       "      <td>0.312312</td>\n",
       "      <td>1.561038</td>\n",
       "      <td>-1.350129</td>\n",
       "      <td>1.621190</td>\n",
       "      <td>1.543957</td>\n",
       "    </tr>\n",
       "    <tr>\n",
       "      <th>3</th>\n",
       "      <td>0.220563</td>\n",
       "      <td>0.533552</td>\n",
       "      <td>1.717365</td>\n",
       "      <td>-1.947555</td>\n",
       "      <td>1.112568</td>\n",
       "      <td>1.763847</td>\n",
       "    </tr>\n",
       "    <tr>\n",
       "      <th>4</th>\n",
       "      <td>-0.488389</td>\n",
       "      <td>-0.130168</td>\n",
       "      <td>-0.188242</td>\n",
       "      <td>0.672990</td>\n",
       "      <td>0.227598</td>\n",
       "      <td>-0.227342</td>\n",
       "    </tr>\n",
       "    <tr>\n",
       "      <th>...</th>\n",
       "      <td>...</td>\n",
       "      <td>...</td>\n",
       "      <td>...</td>\n",
       "      <td>...</td>\n",
       "      <td>...</td>\n",
       "      <td>...</td>\n",
       "    </tr>\n",
       "    <tr>\n",
       "      <th>445</th>\n",
       "      <td>-0.724706</td>\n",
       "      <td>-0.506277</td>\n",
       "      <td>-0.617647</td>\n",
       "      <td>0.075924</td>\n",
       "      <td>-0.652815</td>\n",
       "      <td>-0.609783</td>\n",
       "    </tr>\n",
       "    <tr>\n",
       "      <th>446</th>\n",
       "      <td>0.220563</td>\n",
       "      <td>-0.434374</td>\n",
       "      <td>-0.360400</td>\n",
       "      <td>0.450596</td>\n",
       "      <td>-0.152022</td>\n",
       "      <td>-0.378079</td>\n",
       "    </tr>\n",
       "    <tr>\n",
       "      <th>447</th>\n",
       "      <td>-0.724706</td>\n",
       "      <td>-0.489684</td>\n",
       "      <td>-0.605774</td>\n",
       "      <td>0.902788</td>\n",
       "      <td>-0.607464</td>\n",
       "      <td>-0.601252</td>\n",
       "    </tr>\n",
       "    <tr>\n",
       "      <th>448</th>\n",
       "      <td>-0.488389</td>\n",
       "      <td>-0.473091</td>\n",
       "      <td>-0.556303</td>\n",
       "      <td>0.388042</td>\n",
       "      <td>-0.529789</td>\n",
       "      <td>-0.554881</td>\n",
       "    </tr>\n",
       "    <tr>\n",
       "      <th>449</th>\n",
       "      <td>-0.961023</td>\n",
       "      <td>-0.406719</td>\n",
       "      <td>-0.607753</td>\n",
       "      <td>0.042188</td>\n",
       "      <td>-0.636636</td>\n",
       "      <td>-0.600571</td>\n",
       "    </tr>\n",
       "  </tbody>\n",
       "</table>\n",
       "<p>450 rows × 6 columns</p>\n",
       "</div>"
      ],
      "text/plain": [
       "       Volume  Avg Price  Total Sales Value  Discount Rate (%)  \\\n",
       "0    2.347417   0.091072           2.922469          -0.829365   \n",
       "1    1.165831  -0.019548           1.329516          -0.851714   \n",
       "2    0.456880   0.312312           1.561038          -1.350129   \n",
       "3    0.220563   0.533552           1.717365          -1.947555   \n",
       "4   -0.488389  -0.130168          -0.188242           0.672990   \n",
       "..        ...        ...                ...                ...   \n",
       "445 -0.724706  -0.506277          -0.617647           0.075924   \n",
       "446  0.220563  -0.434374          -0.360400           0.450596   \n",
       "447 -0.724706  -0.489684          -0.605774           0.902788   \n",
       "448 -0.488389  -0.473091          -0.556303           0.388042   \n",
       "449 -0.961023  -0.406719          -0.607753           0.042188   \n",
       "\n",
       "     Discount Amount  Net Sales Value  \n",
       "0           3.948422         2.801638  \n",
       "1           1.846958         1.269613  \n",
       "2           1.621190         1.543957  \n",
       "3           1.112568         1.763847  \n",
       "4           0.227598        -0.227342  \n",
       "..               ...              ...  \n",
       "445        -0.652815        -0.609783  \n",
       "446        -0.152022        -0.378079  \n",
       "447        -0.607464        -0.601252  \n",
       "448        -0.529789        -0.554881  \n",
       "449        -0.636636        -0.600571  \n",
       "\n",
       "[450 rows x 6 columns]"
      ]
     },
     "execution_count": 33,
     "metadata": {},
     "output_type": "execute_result"
    }
   ],
   "source": [
    "def standard(x):\n",
    "    z=(x-x.mean())/x.std()\n",
    "    return z\n",
    "standard(data.select_dtypes(['int64','float64']))"
   ]
  },
  {
   "cell_type": "code",
   "execution_count": 34,
   "id": "eaabf7e7-c757-4919-975e-b6a9da28c694",
   "metadata": {},
   "outputs": [
    {
     "data": {
      "text/html": [
       "<div>\n",
       "<style scoped>\n",
       "    .dataframe tbody tr th:only-of-type {\n",
       "        vertical-align: middle;\n",
       "    }\n",
       "\n",
       "    .dataframe tbody tr th {\n",
       "        vertical-align: top;\n",
       "    }\n",
       "\n",
       "    .dataframe thead th {\n",
       "        text-align: right;\n",
       "    }\n",
       "</style>\n",
       "<table border=\"1\" class=\"dataframe\">\n",
       "  <thead>\n",
       "    <tr style=\"text-align: right;\">\n",
       "      <th></th>\n",
       "      <th>Date</th>\n",
       "      <th>Day</th>\n",
       "      <th>SKU</th>\n",
       "      <th>City</th>\n",
       "      <th>BU</th>\n",
       "      <th>Brand</th>\n",
       "      <th>Model</th>\n",
       "    </tr>\n",
       "  </thead>\n",
       "  <tbody>\n",
       "    <tr>\n",
       "      <th>0</th>\n",
       "      <td>01-04-2021</td>\n",
       "      <td>Thursday</td>\n",
       "      <td>M01</td>\n",
       "      <td>C</td>\n",
       "      <td>Mobiles</td>\n",
       "      <td>RealU</td>\n",
       "      <td>RU-10</td>\n",
       "    </tr>\n",
       "    <tr>\n",
       "      <th>1</th>\n",
       "      <td>01-04-2021</td>\n",
       "      <td>Thursday</td>\n",
       "      <td>M02</td>\n",
       "      <td>C</td>\n",
       "      <td>Mobiles</td>\n",
       "      <td>RealU</td>\n",
       "      <td>RU-9 Plus</td>\n",
       "    </tr>\n",
       "    <tr>\n",
       "      <th>2</th>\n",
       "      <td>01-04-2021</td>\n",
       "      <td>Thursday</td>\n",
       "      <td>M03</td>\n",
       "      <td>C</td>\n",
       "      <td>Mobiles</td>\n",
       "      <td>YouM</td>\n",
       "      <td>YM-99</td>\n",
       "    </tr>\n",
       "    <tr>\n",
       "      <th>3</th>\n",
       "      <td>01-04-2021</td>\n",
       "      <td>Thursday</td>\n",
       "      <td>M04</td>\n",
       "      <td>C</td>\n",
       "      <td>Mobiles</td>\n",
       "      <td>YouM</td>\n",
       "      <td>YM-99 Plus</td>\n",
       "    </tr>\n",
       "    <tr>\n",
       "      <th>4</th>\n",
       "      <td>01-04-2021</td>\n",
       "      <td>Thursday</td>\n",
       "      <td>M05</td>\n",
       "      <td>C</td>\n",
       "      <td>Mobiles</td>\n",
       "      <td>YouM</td>\n",
       "      <td>YM-98</td>\n",
       "    </tr>\n",
       "    <tr>\n",
       "      <th>...</th>\n",
       "      <td>...</td>\n",
       "      <td>...</td>\n",
       "      <td>...</td>\n",
       "      <td>...</td>\n",
       "      <td>...</td>\n",
       "      <td>...</td>\n",
       "      <td>...</td>\n",
       "    </tr>\n",
       "    <tr>\n",
       "      <th>445</th>\n",
       "      <td>15-04-2021</td>\n",
       "      <td>Thursday</td>\n",
       "      <td>L06</td>\n",
       "      <td>C</td>\n",
       "      <td>Lifestyle</td>\n",
       "      <td>Jeera</td>\n",
       "      <td>M-Casuals</td>\n",
       "    </tr>\n",
       "    <tr>\n",
       "      <th>446</th>\n",
       "      <td>15-04-2021</td>\n",
       "      <td>Thursday</td>\n",
       "      <td>L07</td>\n",
       "      <td>C</td>\n",
       "      <td>Lifestyle</td>\n",
       "      <td>Viva</td>\n",
       "      <td>W-Western</td>\n",
       "    </tr>\n",
       "    <tr>\n",
       "      <th>447</th>\n",
       "      <td>15-04-2021</td>\n",
       "      <td>Thursday</td>\n",
       "      <td>L08</td>\n",
       "      <td>C</td>\n",
       "      <td>Lifestyle</td>\n",
       "      <td>Viva</td>\n",
       "      <td>W-Lounge</td>\n",
       "    </tr>\n",
       "    <tr>\n",
       "      <th>448</th>\n",
       "      <td>15-04-2021</td>\n",
       "      <td>Thursday</td>\n",
       "      <td>L09</td>\n",
       "      <td>C</td>\n",
       "      <td>Lifestyle</td>\n",
       "      <td>Jeera</td>\n",
       "      <td>M-Formals</td>\n",
       "    </tr>\n",
       "    <tr>\n",
       "      <th>449</th>\n",
       "      <td>15-04-2021</td>\n",
       "      <td>Thursday</td>\n",
       "      <td>L10</td>\n",
       "      <td>C</td>\n",
       "      <td>Lifestyle</td>\n",
       "      <td>Jeera</td>\n",
       "      <td>M-Shoes</td>\n",
       "    </tr>\n",
       "  </tbody>\n",
       "</table>\n",
       "<p>450 rows × 7 columns</p>\n",
       "</div>"
      ],
      "text/plain": [
       "           Date       Day  SKU City         BU  Brand       Model\n",
       "0    01-04-2021  Thursday  M01    C    Mobiles  RealU       RU-10\n",
       "1    01-04-2021  Thursday  M02    C    Mobiles  RealU   RU-9 Plus\n",
       "2    01-04-2021  Thursday  M03    C    Mobiles   YouM       YM-99\n",
       "3    01-04-2021  Thursday  M04    C    Mobiles   YouM  YM-99 Plus\n",
       "4    01-04-2021  Thursday  M05    C    Mobiles   YouM      YM-98 \n",
       "..          ...       ...  ...  ...        ...    ...         ...\n",
       "445  15-04-2021  Thursday  L06    C  Lifestyle  Jeera   M-Casuals\n",
       "446  15-04-2021  Thursday  L07    C  Lifestyle   Viva   W-Western\n",
       "447  15-04-2021  Thursday  L08    C  Lifestyle   Viva    W-Lounge\n",
       "448  15-04-2021  Thursday  L09    C  Lifestyle  Jeera   M-Formals\n",
       "449  15-04-2021  Thursday  L10    C  Lifestyle  Jeera     M-Shoes\n",
       "\n",
       "[450 rows x 7 columns]"
      ]
     },
     "execution_count": 34,
     "metadata": {},
     "output_type": "execute_result"
    }
   ],
   "source": [
    "data.select_dtypes('object')"
   ]
  },
  {
   "cell_type": "code",
   "execution_count": 35,
   "id": "48256bac-4e9e-4d39-8a1a-4177ff720b5f",
   "metadata": {},
   "outputs": [
    {
     "data": {
      "text/plain": [
       "0        Mobiles\n",
       "1        Mobiles\n",
       "2        Mobiles\n",
       "3        Mobiles\n",
       "4        Mobiles\n",
       "         ...    \n",
       "445    Lifestyle\n",
       "446    Lifestyle\n",
       "447    Lifestyle\n",
       "448    Lifestyle\n",
       "449    Lifestyle\n",
       "Name: BU, Length: 450, dtype: object"
      ]
     },
     "execution_count": 35,
     "metadata": {},
     "output_type": "execute_result"
    }
   ],
   "source": [
    "data['BU']"
   ]
  },
  {
   "cell_type": "code",
   "execution_count": 36,
   "id": "5b0c7492-b313-4645-b756-63040cda7a9f",
   "metadata": {},
   "outputs": [
    {
     "data": {
      "text/html": [
       "<div>\n",
       "<style scoped>\n",
       "    .dataframe tbody tr th:only-of-type {\n",
       "        vertical-align: middle;\n",
       "    }\n",
       "\n",
       "    .dataframe tbody tr th {\n",
       "        vertical-align: top;\n",
       "    }\n",
       "\n",
       "    .dataframe thead th {\n",
       "        text-align: right;\n",
       "    }\n",
       "</style>\n",
       "<table border=\"1\" class=\"dataframe\">\n",
       "  <thead>\n",
       "    <tr style=\"text-align: right;\">\n",
       "      <th></th>\n",
       "      <th>FMCG</th>\n",
       "      <th>Lifestyle</th>\n",
       "      <th>Mobiles</th>\n",
       "    </tr>\n",
       "  </thead>\n",
       "  <tbody>\n",
       "    <tr>\n",
       "      <th>0</th>\n",
       "      <td>0</td>\n",
       "      <td>0</td>\n",
       "      <td>1</td>\n",
       "    </tr>\n",
       "    <tr>\n",
       "      <th>1</th>\n",
       "      <td>0</td>\n",
       "      <td>0</td>\n",
       "      <td>1</td>\n",
       "    </tr>\n",
       "    <tr>\n",
       "      <th>2</th>\n",
       "      <td>0</td>\n",
       "      <td>0</td>\n",
       "      <td>1</td>\n",
       "    </tr>\n",
       "    <tr>\n",
       "      <th>3</th>\n",
       "      <td>0</td>\n",
       "      <td>0</td>\n",
       "      <td>1</td>\n",
       "    </tr>\n",
       "    <tr>\n",
       "      <th>4</th>\n",
       "      <td>0</td>\n",
       "      <td>0</td>\n",
       "      <td>1</td>\n",
       "    </tr>\n",
       "    <tr>\n",
       "      <th>...</th>\n",
       "      <td>...</td>\n",
       "      <td>...</td>\n",
       "      <td>...</td>\n",
       "    </tr>\n",
       "    <tr>\n",
       "      <th>445</th>\n",
       "      <td>0</td>\n",
       "      <td>1</td>\n",
       "      <td>0</td>\n",
       "    </tr>\n",
       "    <tr>\n",
       "      <th>446</th>\n",
       "      <td>0</td>\n",
       "      <td>1</td>\n",
       "      <td>0</td>\n",
       "    </tr>\n",
       "    <tr>\n",
       "      <th>447</th>\n",
       "      <td>0</td>\n",
       "      <td>1</td>\n",
       "      <td>0</td>\n",
       "    </tr>\n",
       "    <tr>\n",
       "      <th>448</th>\n",
       "      <td>0</td>\n",
       "      <td>1</td>\n",
       "      <td>0</td>\n",
       "    </tr>\n",
       "    <tr>\n",
       "      <th>449</th>\n",
       "      <td>0</td>\n",
       "      <td>1</td>\n",
       "      <td>0</td>\n",
       "    </tr>\n",
       "  </tbody>\n",
       "</table>\n",
       "<p>450 rows × 3 columns</p>\n",
       "</div>"
      ],
      "text/plain": [
       "     FMCG  Lifestyle  Mobiles\n",
       "0       0          0        1\n",
       "1       0          0        1\n",
       "2       0          0        1\n",
       "3       0          0        1\n",
       "4       0          0        1\n",
       "..    ...        ...      ...\n",
       "445     0          1        0\n",
       "446     0          1        0\n",
       "447     0          1        0\n",
       "448     0          1        0\n",
       "449     0          1        0\n",
       "\n",
       "[450 rows x 3 columns]"
      ]
     },
     "execution_count": 36,
     "metadata": {},
     "output_type": "execute_result"
    }
   ],
   "source": [
    "pd.get_dummies(data[\"BU\"],dtype='int')"
   ]
  },
  {
   "cell_type": "code",
   "execution_count": null,
   "id": "e3a46aa4-7302-4d40-b2f9-d2051a0f104b",
   "metadata": {},
   "outputs": [],
   "source": []
  },
  {
   "cell_type": "code",
   "execution_count": null,
   "id": "c61f0ad8-22cc-4a0b-935b-63dd1665a7bd",
   "metadata": {},
   "outputs": [],
   "source": []
  },
  {
   "cell_type": "code",
   "execution_count": null,
   "id": "78f3c33e-3ba6-4ed1-ab98-e6ce7947225f",
   "metadata": {},
   "outputs": [],
   "source": []
  }
 ],
 "metadata": {
  "kernelspec": {
   "display_name": "Python 3 (ipykernel)",
   "language": "python",
   "name": "python3"
  },
  "language_info": {
   "codemirror_mode": {
    "name": "ipython",
    "version": 3
   },
   "file_extension": ".py",
   "mimetype": "text/x-python",
   "name": "python",
   "nbconvert_exporter": "python",
   "pygments_lexer": "ipython3",
   "version": "3.12.4"
  }
 },
 "nbformat": 4,
 "nbformat_minor": 5
}
