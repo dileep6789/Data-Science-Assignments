{
 "cells": [
  {
   "cell_type": "code",
   "execution_count": 1,
   "id": "cabccd35-4c93-43d5-88f1-6d33a10157c0",
   "metadata": {},
   "outputs": [],
   "source": [
    "import numpy as np\n",
    "import pandas as pd\n",
    "import seaborn as sns\n",
    "import matplotlib.pyplot as plt"
   ]
  },
  {
   "cell_type": "code",
   "execution_count": 2,
   "id": "1609f3c9-104f-4914-8da4-27df89ce0dce",
   "metadata": {},
   "outputs": [
    {
     "data": {
      "text/html": [
       "<div>\n",
       "<style scoped>\n",
       "    .dataframe tbody tr th:only-of-type {\n",
       "        vertical-align: middle;\n",
       "    }\n",
       "\n",
       "    .dataframe tbody tr th {\n",
       "        vertical-align: top;\n",
       "    }\n",
       "\n",
       "    .dataframe thead th {\n",
       "        text-align: right;\n",
       "    }\n",
       "</style>\n",
       "<table border=\"1\" class=\"dataframe\">\n",
       "  <thead>\n",
       "    <tr style=\"text-align: right;\">\n",
       "      <th></th>\n",
       "      <th>Data</th>\n",
       "      <th>Labels</th>\n",
       "    </tr>\n",
       "  </thead>\n",
       "  <tbody>\n",
       "    <tr>\n",
       "      <th>0</th>\n",
       "      <td>Path: cantaloupe.srv.cs.cmu.edu!magnesium.club...</td>\n",
       "      <td>alt.atheism</td>\n",
       "    </tr>\n",
       "    <tr>\n",
       "      <th>1</th>\n",
       "      <td>Newsgroups: alt.atheism\\nPath: cantaloupe.srv....</td>\n",
       "      <td>alt.atheism</td>\n",
       "    </tr>\n",
       "    <tr>\n",
       "      <th>2</th>\n",
       "      <td>Path: cantaloupe.srv.cs.cmu.edu!das-news.harva...</td>\n",
       "      <td>alt.atheism</td>\n",
       "    </tr>\n",
       "    <tr>\n",
       "      <th>3</th>\n",
       "      <td>Path: cantaloupe.srv.cs.cmu.edu!magnesium.club...</td>\n",
       "      <td>alt.atheism</td>\n",
       "    </tr>\n",
       "    <tr>\n",
       "      <th>4</th>\n",
       "      <td>Xref: cantaloupe.srv.cs.cmu.edu alt.atheism:53...</td>\n",
       "      <td>alt.atheism</td>\n",
       "    </tr>\n",
       "    <tr>\n",
       "      <th>...</th>\n",
       "      <td>...</td>\n",
       "      <td>...</td>\n",
       "    </tr>\n",
       "    <tr>\n",
       "      <th>1995</th>\n",
       "      <td>Xref: cantaloupe.srv.cs.cmu.edu talk.abortion:...</td>\n",
       "      <td>talk.religion.misc</td>\n",
       "    </tr>\n",
       "    <tr>\n",
       "      <th>1996</th>\n",
       "      <td>Xref: cantaloupe.srv.cs.cmu.edu talk.religion....</td>\n",
       "      <td>talk.religion.misc</td>\n",
       "    </tr>\n",
       "    <tr>\n",
       "      <th>1997</th>\n",
       "      <td>Xref: cantaloupe.srv.cs.cmu.edu talk.origins:4...</td>\n",
       "      <td>talk.religion.misc</td>\n",
       "    </tr>\n",
       "    <tr>\n",
       "      <th>1998</th>\n",
       "      <td>Xref: cantaloupe.srv.cs.cmu.edu talk.religion....</td>\n",
       "      <td>talk.religion.misc</td>\n",
       "    </tr>\n",
       "    <tr>\n",
       "      <th>1999</th>\n",
       "      <td>Xref: cantaloupe.srv.cs.cmu.edu sci.skeptic:43...</td>\n",
       "      <td>talk.religion.misc</td>\n",
       "    </tr>\n",
       "  </tbody>\n",
       "</table>\n",
       "<p>2000 rows × 2 columns</p>\n",
       "</div>"
      ],
      "text/plain": [
       "                                                   Data              Labels\n",
       "0     Path: cantaloupe.srv.cs.cmu.edu!magnesium.club...         alt.atheism\n",
       "1     Newsgroups: alt.atheism\\nPath: cantaloupe.srv....         alt.atheism\n",
       "2     Path: cantaloupe.srv.cs.cmu.edu!das-news.harva...         alt.atheism\n",
       "3     Path: cantaloupe.srv.cs.cmu.edu!magnesium.club...         alt.atheism\n",
       "4     Xref: cantaloupe.srv.cs.cmu.edu alt.atheism:53...         alt.atheism\n",
       "...                                                 ...                 ...\n",
       "1995  Xref: cantaloupe.srv.cs.cmu.edu talk.abortion:...  talk.religion.misc\n",
       "1996  Xref: cantaloupe.srv.cs.cmu.edu talk.religion....  talk.religion.misc\n",
       "1997  Xref: cantaloupe.srv.cs.cmu.edu talk.origins:4...  talk.religion.misc\n",
       "1998  Xref: cantaloupe.srv.cs.cmu.edu talk.religion....  talk.religion.misc\n",
       "1999  Xref: cantaloupe.srv.cs.cmu.edu sci.skeptic:43...  talk.religion.misc\n",
       "\n",
       "[2000 rows x 2 columns]"
      ]
     },
     "execution_count": 2,
     "metadata": {},
     "output_type": "execute_result"
    }
   ],
   "source": [
    "blogs=pd.read_csv(\"blogs.csv\",encoding='utf-8',on_bad_lines='skip')\n",
    "blogs"
   ]
  },
  {
   "cell_type": "markdown",
   "id": "9c54f0c5-c7ff-4662-8e4c-c3c242e92f08",
   "metadata": {},
   "source": [
    "# Data Exploration and Preprocesing"
   ]
  },
  {
   "cell_type": "code",
   "execution_count": 4,
   "id": "cea6cd4e-33a7-4ec5-8c34-c7b9e7e8e988",
   "metadata": {},
   "outputs": [
    {
     "name": "stdout",
     "output_type": "stream",
     "text": [
      "<class 'pandas.core.frame.DataFrame'>\n",
      "RangeIndex: 2000 entries, 0 to 1999\n",
      "Data columns (total 2 columns):\n",
      " #   Column  Non-Null Count  Dtype \n",
      "---  ------  --------------  ----- \n",
      " 0   Data    2000 non-null   object\n",
      " 1   Labels  2000 non-null   object\n",
      "dtypes: object(2)\n",
      "memory usage: 31.4+ KB\n"
     ]
    }
   ],
   "source": [
    "blogs.info()"
   ]
  },
  {
   "cell_type": "code",
   "execution_count": 5,
   "id": "64b622c7-37d9-49ae-a0b4-9fe4d66c15bf",
   "metadata": {},
   "outputs": [
    {
     "data": {
      "text/plain": [
       "(2000, 2)"
      ]
     },
     "execution_count": 5,
     "metadata": {},
     "output_type": "execute_result"
    }
   ],
   "source": [
    "blogs.shape"
   ]
  },
  {
   "cell_type": "markdown",
   "id": "8e86c320-30a4-4b9a-8bd9-c6050684449c",
   "metadata": {},
   "source": [
    "There are 2000 blogs in the dataset"
   ]
  },
  {
   "cell_type": "code",
   "execution_count": 7,
   "id": "0ff7de85-35df-4521-9b67-8302f22622e0",
   "metadata": {},
   "outputs": [
    {
     "data": {
      "text/html": [
       "<div>\n",
       "<style scoped>\n",
       "    .dataframe tbody tr th:only-of-type {\n",
       "        vertical-align: middle;\n",
       "    }\n",
       "\n",
       "    .dataframe tbody tr th {\n",
       "        vertical-align: top;\n",
       "    }\n",
       "\n",
       "    .dataframe thead th {\n",
       "        text-align: right;\n",
       "    }\n",
       "</style>\n",
       "<table border=\"1\" class=\"dataframe\">\n",
       "  <thead>\n",
       "    <tr style=\"text-align: right;\">\n",
       "      <th></th>\n",
       "      <th>Data</th>\n",
       "      <th>Labels</th>\n",
       "    </tr>\n",
       "  </thead>\n",
       "  <tbody>\n",
       "    <tr>\n",
       "      <th>0</th>\n",
       "      <td>Path: cantaloupe.srv.cs.cmu.edu!magnesium.club...</td>\n",
       "      <td>alt.atheism</td>\n",
       "    </tr>\n",
       "    <tr>\n",
       "      <th>1</th>\n",
       "      <td>Newsgroups: alt.atheism\\nPath: cantaloupe.srv....</td>\n",
       "      <td>alt.atheism</td>\n",
       "    </tr>\n",
       "    <tr>\n",
       "      <th>2</th>\n",
       "      <td>Path: cantaloupe.srv.cs.cmu.edu!das-news.harva...</td>\n",
       "      <td>alt.atheism</td>\n",
       "    </tr>\n",
       "    <tr>\n",
       "      <th>3</th>\n",
       "      <td>Path: cantaloupe.srv.cs.cmu.edu!magnesium.club...</td>\n",
       "      <td>alt.atheism</td>\n",
       "    </tr>\n",
       "    <tr>\n",
       "      <th>4</th>\n",
       "      <td>Xref: cantaloupe.srv.cs.cmu.edu alt.atheism:53...</td>\n",
       "      <td>alt.atheism</td>\n",
       "    </tr>\n",
       "  </tbody>\n",
       "</table>\n",
       "</div>"
      ],
      "text/plain": [
       "                                                Data       Labels\n",
       "0  Path: cantaloupe.srv.cs.cmu.edu!magnesium.club...  alt.atheism\n",
       "1  Newsgroups: alt.atheism\\nPath: cantaloupe.srv....  alt.atheism\n",
       "2  Path: cantaloupe.srv.cs.cmu.edu!das-news.harva...  alt.atheism\n",
       "3  Path: cantaloupe.srv.cs.cmu.edu!magnesium.club...  alt.atheism\n",
       "4  Xref: cantaloupe.srv.cs.cmu.edu alt.atheism:53...  alt.atheism"
      ]
     },
     "execution_count": 7,
     "metadata": {},
     "output_type": "execute_result"
    }
   ],
   "source": [
    "blogs.head()"
   ]
  },
  {
   "cell_type": "markdown",
   "id": "32c0318f-ebf7-4d7b-8ae3-650d56586478",
   "metadata": {},
   "source": [
    "# Duplicate Rows"
   ]
  },
  {
   "cell_type": "code",
   "execution_count": 9,
   "id": "1910d45a-c6cc-4854-acfd-599bbf69eac7",
   "metadata": {},
   "outputs": [
    {
     "data": {
      "text/html": [
       "<div>\n",
       "<style scoped>\n",
       "    .dataframe tbody tr th:only-of-type {\n",
       "        vertical-align: middle;\n",
       "    }\n",
       "\n",
       "    .dataframe tbody tr th {\n",
       "        vertical-align: top;\n",
       "    }\n",
       "\n",
       "    .dataframe thead th {\n",
       "        text-align: right;\n",
       "    }\n",
       "</style>\n",
       "<table border=\"1\" class=\"dataframe\">\n",
       "  <thead>\n",
       "    <tr style=\"text-align: right;\">\n",
       "      <th></th>\n",
       "      <th>Data</th>\n",
       "      <th>Labels</th>\n",
       "    </tr>\n",
       "  </thead>\n",
       "  <tbody>\n",
       "  </tbody>\n",
       "</table>\n",
       "</div>"
      ],
      "text/plain": [
       "Empty DataFrame\n",
       "Columns: [Data, Labels]\n",
       "Index: []"
      ]
     },
     "execution_count": 9,
     "metadata": {},
     "output_type": "execute_result"
    }
   ],
   "source": [
    "blogs[blogs.duplicated(keep=False)]"
   ]
  },
  {
   "cell_type": "markdown",
   "id": "1da605d5-9b29-4d10-b32b-30fb85fdd751",
   "metadata": {},
   "source": [
    "##  No Duplicate Rows"
   ]
  },
  {
   "cell_type": "markdown",
   "id": "f8c4a0d5-d148-4218-b7e9-76addd8851c2",
   "metadata": {},
   "source": [
    "# Nan Values"
   ]
  },
  {
   "cell_type": "code",
   "execution_count": 12,
   "id": "22c7ba8e-9179-4c52-a1e6-5bfa7a22d0ce",
   "metadata": {},
   "outputs": [
    {
     "data": {
      "text/plain": [
       "Data      0\n",
       "Labels    0\n",
       "dtype: int64"
      ]
     },
     "execution_count": 12,
     "metadata": {},
     "output_type": "execute_result"
    }
   ],
   "source": [
    "blogs.isnull().sum()"
   ]
  },
  {
   "cell_type": "markdown",
   "id": "06f9eeb5-6b59-4327-b54d-509fe9f8275e",
   "metadata": {},
   "source": [
    "# Labels Column"
   ]
  },
  {
   "cell_type": "code",
   "execution_count": 14,
   "id": "0acf17c9-20bf-449d-a8bc-621bcb869920",
   "metadata": {},
   "outputs": [
    {
     "data": {
      "text/plain": [
       "20"
      ]
     },
     "execution_count": 14,
     "metadata": {},
     "output_type": "execute_result"
    }
   ],
   "source": [
    "blogs.Labels.nunique()"
   ]
  },
  {
   "cell_type": "code",
   "execution_count": 15,
   "id": "ad7b38ad-f8d0-446f-afff-073f5405e784",
   "metadata": {},
   "outputs": [
    {
     "data": {
      "text/plain": [
       "array(['alt.atheism', 'comp.graphics', 'comp.os.ms-windows.misc',\n",
       "       'comp.sys.ibm.pc.hardware', 'comp.sys.mac.hardware',\n",
       "       'comp.windows.x', 'misc.forsale', 'rec.autos', 'rec.motorcycles',\n",
       "       'rec.sport.baseball', 'rec.sport.hockey', 'sci.crypt',\n",
       "       'sci.electronics', 'sci.med', 'sci.space',\n",
       "       'soc.religion.christian', 'talk.politics.guns',\n",
       "       'talk.politics.mideast', 'talk.politics.misc',\n",
       "       'talk.religion.misc'], dtype=object)"
      ]
     },
     "execution_count": 15,
     "metadata": {},
     "output_type": "execute_result"
    }
   ],
   "source": [
    "blogs.Labels.unique()"
   ]
  },
  {
   "cell_type": "code",
   "execution_count": 16,
   "id": "08ec2e9c-ce92-4e4a-95f4-1d6a83394c72",
   "metadata": {},
   "outputs": [
    {
     "data": {
      "text/plain": [
       "Labels\n",
       "alt.atheism                 100\n",
       "comp.graphics               100\n",
       "talk.politics.misc          100\n",
       "talk.politics.mideast       100\n",
       "talk.politics.guns          100\n",
       "soc.religion.christian      100\n",
       "sci.space                   100\n",
       "sci.med                     100\n",
       "sci.electronics             100\n",
       "sci.crypt                   100\n",
       "rec.sport.hockey            100\n",
       "rec.sport.baseball          100\n",
       "rec.motorcycles             100\n",
       "rec.autos                   100\n",
       "misc.forsale                100\n",
       "comp.windows.x              100\n",
       "comp.sys.mac.hardware       100\n",
       "comp.sys.ibm.pc.hardware    100\n",
       "comp.os.ms-windows.misc     100\n",
       "talk.religion.misc          100\n",
       "Name: count, dtype: int64"
      ]
     },
     "execution_count": 16,
     "metadata": {},
     "output_type": "execute_result"
    }
   ],
   "source": [
    "blogs.Labels.value_counts()"
   ]
  },
  {
   "cell_type": "code",
   "execution_count": 17,
   "id": "3a8e2892-76a3-456d-ad4d-10425cd31685",
   "metadata": {},
   "outputs": [
    {
     "data": {
      "image/png": "[encoded data removed]",
      "text/plain": [
       "<Figure size 1500x600 with 1 Axes>"
      ]
     },
     "metadata": {},
     "output_type": "display_data"
    }
   ],
   "source": [
    "plt.figure(figsize=(15,6))\n",
    "sns.countplot(data=blogs,x=\"Labels\")\n",
    "plt.tight_layout()\n",
    "plt.show()"
   ]
  },
  {
   "cell_type": "markdown",
   "id": "5d1fa9ee-12d5-49cc-98a0-77ba4d5f7c10",
   "metadata": {},
   "source": [
    "# Preprocesing The Data"
   ]
  },
  {
   "cell_type": "code",
   "execution_count": 19,
   "id": "08bba1a1-00b0-47fa-9599-5a2b3e8687d3",
   "metadata": {},
   "outputs": [
    {
     "ename": "ModuleNotFoundError",
     "evalue": "No module named 'spacy'",
     "output_type": "error",
     "traceback": [
      "\u001b[1;31m---------------------------------------------------------------------------\u001b[0m",
      "\u001b[1;31mModuleNotFoundError\u001b[0m                       Traceback (most recent call last)",
      "Cell \u001b[1;32mIn[19], line 1\u001b[0m\n\u001b[1;32m----> 1\u001b[0m \u001b[38;5;28;01mimport\u001b[39;00m \u001b[38;5;21;01mspacy\u001b[39;00m \n\u001b[0;32m      2\u001b[0m \u001b[38;5;28;01mimport\u001b[39;00m \u001b[38;5;21;01mstring\u001b[39;00m\n\u001b[0;32m      3\u001b[0m \u001b[38;5;28;01mimport\u001b[39;00m \u001b[38;5;21;01mre\u001b[39;00m\n",
      "\u001b[1;31mModuleNotFoundError\u001b[0m: No module named 'spacy'"
     ]
    }
   ],
   "source": [
    "import spacy \n",
    "import string\n",
    "import re"
   ]
  },
  {
   "cell_type": "code",
   "execution_count": null,
   "id": "b0cb13f2-c123-413b-b5da-86280637f080",
   "metadata": {},
   "outputs": [],
   "source": [
    "blogs.head()"
   ]
  },
  {
   "cell_type": "markdown",
   "id": "17f120ce-e083-4cd6-b771-b57d1e4abc84",
   "metadata": {},
   "source": [
    "#  Define a function to clean the Data"
   ]
  },
  {
   "cell_type": "code",
   "execution_count": null,
   "id": "78edfdab-dd68-4b4b-a6c2-ab9211bd0e72",
   "metadata": {},
   "outputs": [],
   "source": [
    "def clean_text(text):\n",
    "\n",
    "    text=text.lower()\n",
    "\n",
    "    # removing any sort of special characters,digits and any punctuations etc\n",
    "\n",
    "    text=re.sub('\\[.*,?/]','',text)\n",
    "    text=re.sub('[0-9\" \"]+','',text)\n",
    "    text=re.sub(r'[^a-zA-Z\\s]','',text)\n",
    "\n",
    "    return text\n",
    "\n",
    "clean =lambda x: clean_text(x)"
   ]
  },
  {
   "cell_type": "code",
   "execution_count": null,
   "id": "50caf620-ba19-4332-841f-d55e50ec24a9",
   "metadata": {},
   "outputs": [],
   "source": [
    "blogs['Data']=blogs['Data'].apply(clean)"
   ]
  },
  {
   "cell_type": "code",
   "execution_count": null,
   "id": "d6aceb1f-4289-4dc0-a8eb-2c4b0a5a420a",
   "metadata": {},
   "outputs": [],
   "source": [
    "blogs['Data'].head()"
   ]
  },
  {
   "cell_type": "markdown",
   "id": "a9633307-e950-49aa-9264-4370d0749e96",
   "metadata": {},
   "source": [
    "# Tokenization"
   ]
  },
  {
   "cell_type": "code",
   "execution_count": null,
   "id": "a1634038-6d6d-4529-979d-844e537e3fcb",
   "metadata": {},
   "outputs": [],
   "source": [
    "from nltk.tokenize import word_tokenize"
   ]
  },
  {
   "cell_type": "code",
   "execution_count": null,
   "id": "f5d0e02d-697f-433d-98e2-67b68b1a8fa7",
   "metadata": {},
   "outputs": [],
   "source": [
    "blogs['Data']=blogs['Data'].apply(word_tokenize)\n",
    "blogs['Data'].head()"
   ]
  },
  {
   "cell_type": "code",
   "execution_count": null,
   "id": "58f0b2c2-edbf-4254-8bcd-a2859ca5b601",
   "metadata": {},
   "outputs": [],
   "source": [
    "blogs['Data']=pd.DataFrame(blogs['Data'])"
   ]
  },
  {
   "cell_type": "markdown",
   "id": "af24d364-8e73-4251-ae94-50094a181325",
   "metadata": {},
   "source": [
    "# Removing The Stop Words"
   ]
  },
  {
   "cell_type": "code",
   "execution_count": null,
   "id": "539aa031-704f-482b-aba7-8da691414205",
   "metadata": {},
   "outputs": [],
   "source": [
    "import nltk \n",
    "from nltk.corpus import stopwords"
   ]
  },
  {
   "cell_type": "code",
   "execution_count": null,
   "id": "48207522-49bc-4757-9ff6-8f8b0b76adaa",
   "metadata": {},
   "outputs": [],
   "source": [
    "stop=stopwords.words('english')\n",
    "blogs[\"Data\"]=blogs[\"Data\"].apply(lambda x : \" \".join( x for x in x if x not in stop))"
   ]
  },
  {
   "cell_type": "code",
   "execution_count": null,
   "id": "13d39348-a867-444d-bf47-4303886db169",
   "metadata": {},
   "outputs": [],
   "source": [
    "blogs['Data']"
   ]
  },
  {
   "cell_type": "markdown",
   "id": "fca20a9f-30de-47b5-8482-2aee6685dbad",
   "metadata": {},
   "source": [
    "# Stemming the Words"
   ]
  },
  {
   "cell_type": "code",
   "execution_count": null,
   "id": "90f9d737-32a4-494c-8405-60a61ff9b30b",
   "metadata": {},
   "outputs": [],
   "source": [
    "from nltk.stem import PorterStemmer\n",
    "stemmer=PorterStemmer()\n",
    "blogs['Data']=[stemmer.stem(i) for i in blogs[\"Data\"]]"
   ]
  },
  {
   "cell_type": "code",
   "execution_count": null,
   "id": "18a4b0f0-09f5-4c7f-a5e2-8bd11195ade0",
   "metadata": {},
   "outputs": [],
   "source": [
    "blogs.head()"
   ]
  },
  {
   "cell_type": "markdown",
   "id": "0d120d4f-9b96-43d8-95ea-b8316df33d12",
   "metadata": {},
   "source": [
    "# TFIDF Vectorization"
   ]
  },
  {
   "cell_type": "code",
   "execution_count": null,
   "id": "cca7cc4a-a088-4cd1-bf17-10f54e817de1",
   "metadata": {},
   "outputs": [],
   "source": [
    "from sklearn.feature_extraction.text import TfidfVectorizer\n",
    "\n",
    "tfidf = TfidfVectorizer(analyzer='word')"
   ]
  },
  {
   "cell_type": "code",
   "execution_count": null,
   "id": "4bb481b9-a407-4002-8462-b9285329a1f6",
   "metadata": {},
   "outputs": [],
   "source": [
    "bow_matrix = tfidf.fit_transform(blogs['Data'])"
   ]
  },
  {
   "cell_type": "code",
   "execution_count": null,
   "id": "b946b2db-e466-4f63-b69a-4f9cf57b8e11",
   "metadata": {},
   "outputs": [],
   "source": [
    "bow_matrix.shape"
   ]
  },
  {
   "cell_type": "code",
   "execution_count": null,
   "id": "220d9da9-f3b0-4c42-acce-9e610fe23862",
   "metadata": {},
   "outputs": [],
   "source": [
    "bow_matrix"
   ]
  },
  {
   "cell_type": "markdown",
   "id": "f9991508-db38-447e-9b42-cfa0e1ae929f",
   "metadata": {},
   "source": [
    "# Naive Bayes For Text Classification"
   ]
  },
  {
   "cell_type": "code",
   "execution_count": null,
   "id": "bfb0412e-d70c-437c-88a5-5ab1610ba0b8",
   "metadata": {},
   "outputs": [],
   "source": [
    "from sklearn.model_selection import train_test_split\n",
    "train_blogs,test_blogs=train_test_split(blogs,test_size=0.2)"
   ]
  },
  {
   "cell_type": "code",
   "execution_count": null,
   "id": "24d63355-6a09-42f9-af53-25e6c08eee6a",
   "metadata": {},
   "outputs": [],
   "source": [
    "# Train data\n",
    "train_blogs"
   ]
  },
  {
   "cell_type": "code",
   "execution_count": null,
   "id": "99b845d9-4418-44b7-a6ad-2a4aed030f75",
   "metadata": {},
   "outputs": [],
   "source": [
    "# Test Data\n",
    "test_blogs"
   ]
  },
  {
   "cell_type": "code",
   "execution_count": null,
   "id": "1c1199d3-0123-4764-8925-10e672de6171",
   "metadata": {},
   "outputs": [],
   "source": [
    "print(train_blogs.shape)\n",
    "print(test_blogs.shape)"
   ]
  },
  {
   "cell_type": "code",
   "execution_count": null,
   "id": "68d6870e-da42-4fb5-a1f0-610b8285efce",
   "metadata": {},
   "outputs": [],
   "source": [
    "vectoriser = TfidfVectorizer(analyzer='word')"
   ]
  },
  {
   "cell_type": "code",
   "execution_count": null,
   "id": "fc4eac8e-b799-43d5-8cb7-16c54ef2b0aa",
   "metadata": {},
   "outputs": [],
   "source": [
    "# Bag of words matrix for train data using TfIdf Vectoriser\n",
    "\n",
    "train_matrix= vectoriser.fit_transform(train_blogs['Data'])"
   ]
  },
  {
   "cell_type": "code",
   "execution_count": null,
   "id": "85f04a46-014f-4e37-bc8e-6641e4d1594b",
   "metadata": {},
   "outputs": [],
   "source": [
    "train_matrix "
   ]
  },
  {
   "cell_type": "code",
   "execution_count": null,
   "id": "cdbd9752-e793-48b2-968e-a57a734c6649",
   "metadata": {},
   "outputs": [],
   "source": [
    "train_matrix.shape"
   ]
  },
  {
   "cell_type": "code",
   "execution_count": null,
   "id": "6a8a932c-a18c-45bb-a64f-3f2cb707ba60",
   "metadata": {},
   "outputs": [],
   "source": [
    "test_matrix = vectoriser.transform(test_blogs['Data'])"
   ]
  },
  {
   "cell_type": "code",
   "execution_count": null,
   "id": "a4ed2159-c224-4fd9-9037-d359f8ee5c4c",
   "metadata": {},
   "outputs": [],
   "source": [
    "test_matrix.shape"
   ]
  },
  {
   "cell_type": "code",
   "execution_count": null,
   "id": "ac26fc07-c065-435b-99c7-58197881cbc0",
   "metadata": {},
   "outputs": [],
   "source": [
    "X_train = train_matrix\n",
    "y_train = train_blogs['Labels']\n",
    "\n",
    "X_test = test_matrix\n",
    "y_test = test_blogs['Labels']"
   ]
  },
  {
   "cell_type": "code",
   "execution_count": null,
   "id": "e2b7d212-420c-4464-b2cb-0c791453cd53",
   "metadata": {},
   "outputs": [],
   "source": [
    "# Implementing classification model using Naive Bayes\n",
    "\n",
    "from sklearn.naive_bayes import MultinomialNB as mb\n",
    "\n",
    "classifier = mb()"
   ]
  },
  {
   "cell_type": "code",
   "execution_count": null,
   "id": "8aa829ea-d532-40e5-a222-f34e76890264",
   "metadata": {},
   "outputs": [],
   "source": [
    "# training using train data\n",
    "\n",
    "classifier.fit(X_train,y_train)"
   ]
  },
  {
   "cell_type": "markdown",
   "id": "f5721214-fc36-42f2-b6cb-2320ded46e64",
   "metadata": {},
   "source": [
    "# Predictions"
   ]
  },
  {
   "cell_type": "code",
   "execution_count": null,
   "id": "f8191f48-c9c7-4fe7-9696-94b17961ec83",
   "metadata": {},
   "outputs": [],
   "source": [
    "train_preds = classifier.predict(train_matrix)\n",
    "\n",
    "train_preds"
   ]
  },
  {
   "cell_type": "code",
   "execution_count": null,
   "id": "2f23f063-644c-4f97-a2f6-98d80da82234",
   "metadata": {},
   "outputs": [],
   "source": [
    "train_accuracy = np.mean(train_preds == train_blogs['Labels'])\n",
    "\n",
    "print('The training accuracy is:',train_accuracy)"
   ]
  },
  {
   "cell_type": "code",
   "execution_count": null,
   "id": "7375b1fd-cafd-4928-a384-47d89cfc1170",
   "metadata": {},
   "outputs": [],
   "source": [
    "# Here we are making predictions on the unseen data (Testing data)\n",
    "\n",
    "test_preds = classifier.predict(test_matrix)\n",
    "\n",
    "test_preds"
   ]
  },
  {
   "cell_type": "code",
   "execution_count": null,
   "id": "f9b2b247-2885-4e0f-8fee-7b226d7bbf1c",
   "metadata": {},
   "outputs": [],
   "source": [
    "test_accuracy = np.mean(test_preds == test_blogs['Labels'])\n",
    "\n",
    "print('The testing accuracy of the model is:',test_accuracy)"
   ]
  },
  {
   "cell_type": "markdown",
   "id": "7a2968ad-9a48-48a4-85aa-ff1b0d46536a",
   "metadata": {},
   "source": [
    "# Sentiment Analysis"
   ]
  },
  {
   "cell_type": "code",
   "execution_count": null,
   "id": "e585abc3-7d08-4977-992e-97cc1a5268dd",
   "metadata": {},
   "outputs": [],
   "source": [
    "import nltk\n",
    "\n",
    "from nltk.sentiment import SentimentIntensityAnalyzer\n",
    "\n",
    "# Using the vader lexicon library for sentiment analysis\\\n",
    "nltk.download('vader_lexicon')"
   ]
  },
  {
   "cell_type": "code",
   "execution_count": null,
   "id": "72ac41d9-f2a7-41cf-9c5b-1511767c349e",
   "metadata": {},
   "outputs": [],
   "source": [
    "# creating a function to calculate sentiment \n",
    "\n",
    "def analyze_emotion(text):\n",
    "    analyser = SentimentIntensityAnalyzer()\n",
    "    \n",
    "    score = analyser.polarity_scores(text)\n",
    "    \n",
    "    if score['compound']>= 0.5:\n",
    "        sentiment = 'Positive'\n",
    "    elif score['compound'] <= 0.5:\n",
    "        sentiment = 'Negative'\n",
    "    else:\n",
    "        sentiment = 'Neutral'\n",
    "\n",
    "    \n",
    "    return score,sentiment"
   ]
  },
  {
   "cell_type": "code",
   "execution_count": null,
   "id": "6d158b30-5b81-4a79-b6a5-0a2d055cd868",
   "metadata": {},
   "outputs": [],
   "source": [
    "blogs['score'],blogs['Sentiment'] = zip(*blogs['Data'].apply(analyze_emotion))"
   ]
  },
  {
   "cell_type": "code",
   "execution_count": null,
   "id": "947982a9-3371-4ae6-9b84-6c3a01004597",
   "metadata": {},
   "outputs": [],
   "source": [
    "blogs"
   ]
  },
  {
   "cell_type": "code",
   "execution_count": null,
   "id": "ebe3f677-7bca-4e48-b329-67f9dea820fb",
   "metadata": {},
   "outputs": [],
   "source": [
    "blogs['Sentiment'].value_counts()"
   ]
  },
  {
   "cell_type": "code",
   "execution_count": null,
   "id": "dc33a313-2c88-4d72-8e40-c417b601f464",
   "metadata": {},
   "outputs": [],
   "source": [
    "from nrclex import NRCLex\n",
    "text=' '.join(blogs['Data'])"
   ]
  },
  {
   "cell_type": "code",
   "execution_count": null,
   "id": "e692e209-ef78-410c-ae4e-cd58debfa4fd",
   "metadata": {},
   "outputs": [],
   "source": [
    "sentiment=NRCLex(text)\n",
    "sentiment.affect_frequencies"
   ]
  },
  {
   "cell_type": "code",
   "execution_count": null,
   "id": "36b6f2a0-2336-46df-b33d-e7e5d3cafa91",
   "metadata": {},
   "outputs": [],
   "source": [
    "blogs"
   ]
  },
  {
   "cell_type": "markdown",
   "id": "80b33e12-c85a-4463-9f19-8a9abf60d5f4",
   "metadata": {},
   "source": [
    "# distribution of sentiments across different categories"
   ]
  },
  {
   "cell_type": "code",
   "execution_count": null,
   "id": "860b7615-ee5c-445e-82dd-f83a0ab466d4",
   "metadata": {},
   "outputs": [],
   "source": [
    "category_sentiment=pd.crosstab(blogs['Labels'],blogs['Sentiment'])\n",
    "category_sentiment"
   ]
  },
  {
   "cell_type": "markdown",
   "id": "cb6c56c9-e1e5-445c-8494-22bea62ad7f4",
   "metadata": {},
   "source": [
    "# Visualisation for distribution of sentiments across different categories"
   ]
  },
  {
   "cell_type": "code",
   "execution_count": null,
   "id": "6b193d7b-aec3-4855-9758-b7450f2af5eb",
   "metadata": {},
   "outputs": [],
   "source": [
    "plt.figure(figsize=(15,5))\n",
    "\n",
    "plt.subplot(1,2,1)\n",
    "sns.barplot(x=category_sentiment.index,y=category_sentiment['Positive'])\n",
    "plt.xlabel('Categories')\n",
    "plt.title('Positive Sentiments')\n",
    "plt.xticks(rotation=80)\n",
    "\n",
    "plt.subplot(1,2,2)\n",
    "sns.barplot(data =category_sentiment,x =category_sentiment.index,y = 'Negative')\n",
    "plt.xlabel('Categories')\n",
    "plt.title('Negative Sentiments')\n",
    "plt.xticks(rotation=80)"
   ]
  },
  {
   "cell_type": "markdown",
   "id": "d4315f0c-c0bd-46ae-b7e1-5083157f186d",
   "metadata": {},
   "source": [
    "# Evaluation"
   ]
  },
  {
   "cell_type": "code",
   "execution_count": null,
   "id": "a377306f-2429-405b-b2c1-cc3068797aad",
   "metadata": {},
   "outputs": [],
   "source": [
    "from sklearn.metrics import accuracy_score,precision_score,recall_score,f1_score"
   ]
  },
  {
   "cell_type": "code",
   "execution_count": null,
   "id": "da034a7a-3846-4741-b6a4-546cf1c18205",
   "metadata": {},
   "outputs": [],
   "source": [
    "accuracy = accuracy_score(test_preds,test_blogs['Labels'])\n",
    "\n",
    "print('The Accuracy of the model is:',accuracy)"
   ]
  },
  {
   "cell_type": "code",
   "execution_count": null,
   "id": "4b311ec6-d6a3-4279-a52e-52f1db0fbbf3",
   "metadata": {},
   "outputs": [],
   "source": [
    "precision = precision_score(test_preds , test_blogs['Labels'],average='macro')\n",
    "\n",
    "print('Precision of the model is:',precision)"
   ]
  },
  {
   "cell_type": "code",
   "execution_count": null,
   "id": "d6802505-d20c-4798-89d9-82adb171e401",
   "metadata": {},
   "outputs": [],
   "source": [
    "recall = recall_score(test_preds,test_blogs['Labels'],average = 'macro')\n",
    "\n",
    "print('Recall of the model is',recall)"
   ]
  },
  {
   "cell_type": "code",
   "execution_count": null,
   "id": "ce548307-1ccf-494f-b047-9a596d0c5dfd",
   "metadata": {},
   "outputs": [],
   "source": [
    "F1_score = f1_score(test_preds , test_blogs['Labels'],average='macro')\n",
    "\n",
    "print('F1 score of the model is:',F1_score)"
   ]
  },
  {
   "cell_type": "markdown",
   "id": "a18e877a-8f94-4c1b-9321-40e8eccf52be",
   "metadata": {},
   "source": [
    "We got testing accuracy for text prediction around 84 %. All the evaluation metrics such as accuracy, precision and F1 score etc are around same which indicates significance in classification."
   ]
  },
  {
   "cell_type": "markdown",
   "id": "ef17bed7-be6e-43a0-ac41-9b1e3df1cf9f",
   "metadata": {},
   "source": [
    "The sentiment analysis on the blogs resulted in Positive and Negative sentiments. There were no neutral sentiments inany of the blogs. In that too majority portion of the blogs had negative sentiment in it when compared to positive ones. This indicates that the content of the blog posts majorly had negative feeling or emotions of any unpleasant sentiments."
   ]
  }
 ],
 "metadata": {
  "kernelspec": {
   "display_name": "Python 3 (ipykernel)",
   "language": "python",
   "name": "python3"
  },
  "language_info": {
   "codemirror_mode": {
    "name": "ipython",
    "version": 3
   },
   "file_extension": ".py",
   "mimetype": "text/x-python",
   "name": "python",
   "nbconvert_exporter": "python",
   "pygments_lexer": "ipython3",
   "version": "3.12.4"
  }
 },
 "nbformat": 4,
 "nbformat_minor": 5
}
