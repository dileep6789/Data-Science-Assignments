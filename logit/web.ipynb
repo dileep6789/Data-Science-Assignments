{
 "cells": [
  {
   "cell_type": "code",
   "execution_count": 2,
   "id": "c8cf529b-398f-4f61-8264-be4a0bc38ed9",
   "metadata": {},
   "outputs": [],
   "source": [
    "import pickle as pkl\n",
    "from sklearn.linear_model import LogisticRegression\n",
    "from pickle import load\n",
    "from pickle import dump\n",
    "import streamlit as st\n",
    "import pandas as pd"
   ]
  },
  {
   "cell_type": "code",
   "execution_count": 8,
   "id": "6c6c28dd-c0ce-484d-bce7-d0ce79b1616a",
   "metadata": {},
   "outputs": [
    {
     "ename": "StreamlitAPIException",
     "evalue": "`select_box()` is not a valid Streamlit command.",
     "output_type": "error",
     "traceback": [
      "\u001b[1;31m---------------------------------------------------------------------------\u001b[0m",
      "\u001b[1;31mStreamlitAPIException\u001b[0m                     Traceback (most recent call last)",
      "Cell \u001b[1;32mIn[8], line 21\u001b[0m\n\u001b[0;32m     18\u001b[0m     features\u001b[38;5;241m=\u001b[39mpd\u001b[38;5;241m.\u001b[39mDataFrame(data,index\u001b[38;5;241m=\u001b[39m[\u001b[38;5;241m0\u001b[39m])\n\u001b[0;32m     19\u001b[0m     \u001b[38;5;28;01mreturn\u001b[39;00m features\n\u001b[1;32m---> 21\u001b[0m df\u001b[38;5;241m=\u001b[39muser_input_features()\n\u001b[0;32m     23\u001b[0m st\u001b[38;5;241m.\u001b[39msubheader(\u001b[38;5;124m\"\u001b[39m\u001b[38;5;124mUser Input Parameters\u001b[39m\u001b[38;5;124m\"\u001b[39m)\n\u001b[0;32m     24\u001b[0m st\u001b[38;5;241m.\u001b[39mwrite(df)\n",
      "Cell \u001b[1;32mIn[8], line 7\u001b[0m, in \u001b[0;36muser_input_features\u001b[1;34m()\u001b[0m\n\u001b[0;32m      5\u001b[0m Pclass\u001b[38;5;241m=\u001b[39mst\u001b[38;5;241m.\u001b[39msidebar\u001b[38;5;241m.\u001b[39mselectbox(\u001b[38;5;124m'\u001b[39m\u001b[38;5;124mPassengerClass\u001b[39m\u001b[38;5;124m'\u001b[39m,(\u001b[38;5;124m'\u001b[39m\u001b[38;5;124m1\u001b[39m\u001b[38;5;124m'\u001b[39m,\u001b[38;5;124m'\u001b[39m\u001b[38;5;124m2\u001b[39m\u001b[38;5;124m'\u001b[39m,\u001b[38;5;124m'\u001b[39m\u001b[38;5;124m3\u001b[39m\u001b[38;5;124m'\u001b[39m))\n\u001b[0;32m      6\u001b[0m Age\u001b[38;5;241m=\u001b[39mst\u001b[38;5;241m.\u001b[39msidebar\u001b[38;5;241m.\u001b[39mnumber_input(\u001b[38;5;124m\"\u001b[39m\u001b[38;5;124mAge\u001b[39m\u001b[38;5;124m\"\u001b[39m)\n\u001b[1;32m----> 7\u001b[0m SibSp\u001b[38;5;241m=\u001b[39mst\u001b[38;5;241m.\u001b[39msidebar\u001b[38;5;241m.\u001b[39mselect_box(\u001b[38;5;124m\"\u001b[39m\u001b[38;5;124mSibSp\u001b[39m\u001b[38;5;124m\"\u001b[39m,(\u001b[38;5;124m'\u001b[39m\u001b[38;5;124m0\u001b[39m\u001b[38;5;124m'\u001b[39m,\u001b[38;5;124m'\u001b[39m\u001b[38;5;124m1\u001b[39m\u001b[38;5;124m'\u001b[39m,\u001b[38;5;124m'\u001b[39m\u001b[38;5;124m2\u001b[39m\u001b[38;5;124m'\u001b[39m,\u001b[38;5;124m'\u001b[39m\u001b[38;5;124m3\u001b[39m\u001b[38;5;124m'\u001b[39m,\u001b[38;5;124m'\u001b[39m\u001b[38;5;124m4\u001b[39m\u001b[38;5;124m'\u001b[39m,\u001b[38;5;124m'\u001b[39m\u001b[38;5;124m5\u001b[39m\u001b[38;5;124m'\u001b[39m,\u001b[38;5;124m'\u001b[39m\u001b[38;5;124m8\u001b[39m\u001b[38;5;124m'\u001b[39m))\n\u001b[0;32m      8\u001b[0m Parch\u001b[38;5;241m=\u001b[39mst\u001b[38;5;241m.\u001b[39msidebar\u001b[38;5;241m.\u001b[39mselect_box(\u001b[38;5;124m\"\u001b[39m\u001b[38;5;124mParch\u001b[39m\u001b[38;5;124m\"\u001b[39m,(\u001b[38;5;124m'\u001b[39m\u001b[38;5;124m0\u001b[39m\u001b[38;5;124m'\u001b[39m,\u001b[38;5;124m'\u001b[39m\u001b[38;5;124m1\u001b[39m\u001b[38;5;124m'\u001b[39m,\u001b[38;5;124m'\u001b[39m\u001b[38;5;124m2\u001b[39m\u001b[38;5;124m'\u001b[39m,\u001b[38;5;124m'\u001b[39m\u001b[38;5;124m3\u001b[39m\u001b[38;5;124m'\u001b[39m,\u001b[38;5;124m'\u001b[39m\u001b[38;5;124m4\u001b[39m\u001b[38;5;124m'\u001b[39m,\u001b[38;5;124m'\u001b[39m\u001b[38;5;124m5\u001b[39m\u001b[38;5;124m'\u001b[39m,\u001b[38;5;124m'\u001b[39m\u001b[38;5;124m6\u001b[39m\u001b[38;5;124m'\u001b[39m))\n\u001b[0;32m      9\u001b[0m Fare\u001b[38;5;241m=\u001b[39mst\u001b[38;5;241m.\u001b[39msidebar\u001b[38;5;241m.\u001b[39mnumber_input(\u001b[38;5;124m\"\u001b[39m\u001b[38;5;124mEnter the Fare:\u001b[39m\u001b[38;5;124m\"\u001b[39m)\n",
      "File \u001b[1;32m~\\OneDrive\\Data Science\\Lib\\site-packages\\streamlit\\delta_generator.py:352\u001b[0m, in \u001b[0;36mDeltaGenerator.__getattr__.<locals>.wrapper\u001b[1;34m(*args, **kwargs)\u001b[0m\n\u001b[0;32m    347\u001b[0m \u001b[38;5;28;01melse\u001b[39;00m:\n\u001b[0;32m    348\u001b[0m     message \u001b[38;5;241m=\u001b[39m \u001b[38;5;124m\"\u001b[39m\u001b[38;5;124m`\u001b[39m\u001b[38;5;132;01m%(name)s\u001b[39;00m\u001b[38;5;124m()` is not a valid Streamlit command.\u001b[39m\u001b[38;5;124m\"\u001b[39m \u001b[38;5;241m%\u001b[39m {\n\u001b[0;32m    349\u001b[0m         \u001b[38;5;124m\"\u001b[39m\u001b[38;5;124mname\u001b[39m\u001b[38;5;124m\"\u001b[39m: name\n\u001b[0;32m    350\u001b[0m     }\n\u001b[1;32m--> 352\u001b[0m \u001b[38;5;28;01mraise\u001b[39;00m StreamlitAPIException(message)\n",
      "\u001b[1;31mStreamlitAPIException\u001b[0m: `select_box()` is not a valid Streamlit command."
     ]
    }
   ],
   "source": [
    "st.title(\"Prediction of Survival\")\n",
    "st.sidebar.header(\"User Input Parameters\")\n",
    "\n",
    "def user_input_features():\n",
    "    Pclass=st.sidebar.selectbox('PassengerClass',('1','2','3'))\n",
    "    Age=st.sidebar.number_input(\"Age\")\n",
    "    SibSp=st.sidebar.selectbox(\"SibSp\",('0','1','2','3','4','5','8'))\n",
    "    Parch=st.sidebar.selectbox(\"Parch\",('0','1','2','3','4','5','6'))\n",
    "    Fare=st.sidebar.number_input(\"Enter the Fare:\")\n",
    "    Sex=st.sidebar.selectbox(\"Gender\",('0-Female','1-Male'))\n",
    "    Embarked=st.sidebar.selectbox(\"Embarked\",(\"C\",\"S\",\"Q\"))\n",
    "    data={'Pclass':Pclass,\n",
    "          \"Age\":Age,\n",
    "          \"SibSp\":SibSp,\n",
    "          \"Parch\":Parch,\n",
    "          \"Fare\":Fare,\n",
    "          \"Sex\":Sex,\n",
    "          \"Embarked\":Embarked}\n",
    "    features=pd.DataFrame(data,index=[0])\n",
    "    return features\n",
    "\n",
    "df=user_input_features()\n",
    "\n",
    "st.subheader(\"User Input Parameters\")\n",
    "st.write(df)\n",
    "\n",
    "# load the model from disk\n",
    "# predict\n",
    "loaded_model=load(open(\"deploy.pkl\",'rb'))\n",
    "\n",
    "\n",
    "prediction=loaded_model.predict(df)\n",
    "prediction_proba=loaded_model.predict_proba(df)\n",
    "\n",
    "st.subheader('Predicted Result')\n",
    "st.write(\"You Will Survive..\" if prediction[0]==0 else \"There is no Chances to survive!.\")\n",
    "\n",
    "\n",
    "st.subheader('Prediction Probability')\n",
    "st.write(prediction_proba)"
   ]
  },
  {
   "cell_type": "code",
   "execution_count": null,
   "id": "508942ab-d9fb-4a9b-90b7-e170ccb3547d",
   "metadata": {},
   "outputs": [],
   "source": []
  }
 ],
 "metadata": {
  "kernelspec": {
   "display_name": "Python 3 (ipykernel)",
   "language": "python",
   "name": "python3"
  },
  "language_info": {
   "codemirror_mode": {
    "name": "ipython",
    "version": 3
   },
   "file_extension": ".py",
   "mimetype": "text/x-python",
   "name": "python",
   "nbconvert_exporter": "python",
   "pygments_lexer": "ipython3",
   "version": "3.11.7"
  }
 },
 "nbformat": 4,
 "nbformat_minor": 5
}
