{
 "cells": [
  {
   "cell_type": "markdown",
   "id": "80e5cbe0-3b47-4f72-9b11-0973fcf4e99f",
   "metadata": {},
   "source": [
    "# HYPOTHESIS TESTING"
   ]
  },
  {
   "cell_type": "code",
   "execution_count": 1,
   "id": "51f563e2-c966-4a5c-9c6b-00abed87929d",
   "metadata": {},
   "outputs": [],
   "source": [
    "#importing the libraries\n",
    "import numpy as np\n",
    "from scipy import stats"
   ]
  },
  {
   "cell_type": "markdown",
   "id": "6fca2102-7682-4d87-a36f-5835dc747f37",
   "metadata": {},
   "source": [
    "# Hypothesis Statements"
   ]
  },
  {
   "cell_type": "markdown",
   "id": "61bcebc1-6fa9-4f4a-aa7c-be562b53f2be",
   "metadata": {},
   "source": [
    "#  Null Hypothesis(H0):\n",
    "#  mu of weekly opertaing cost is less than or equal to mu of model suggest.\n",
    "#  H0 Statement :  μ(weekly cost) <= μ(model suggest)"
   ]
  },
  {
   "cell_type": "markdown",
   "id": "467b757c-685d-4e56-aaa7-84ba6233434a",
   "metadata": {},
   "source": [
    "#  Alternate Hypothesis(H0):\n",
    "#  mu of weekly opertaing cost is greater than mu of model suggest.\n",
    "#  H0 Statement : μ(weekly cost) > μ(model suggest)"
   ]
  },
  {
   "cell_type": "code",
   "execution_count": 2,
   "id": "785f65f6-8162-48e7-8b26-b81896cf4777",
   "metadata": {},
   "outputs": [],
   "source": [
    "sample_mean= 3050\n",
    "#pop_mean= W=$1000+$5X #where(X=600)\n",
    "pop_mean= 4000\n",
    "sigma=25*5\n",
    "n= 25"
   ]
  },
  {
   "cell_type": "markdown",
   "id": "d5d39afe-cb61-45aa-bb94-ab381aa09152",
   "metadata": {},
   "source": [
    "# Finding the critical angle"
   ]
  },
  {
   "cell_type": "code",
   "execution_count": 3,
   "id": "4c01c818-e74c-432d-a056-770014945ea4",
   "metadata": {},
   "outputs": [
    {
     "name": "stdout",
     "output_type": "stream",
     "text": [
      "The calculated value: -38.0\n"
     ]
    }
   ],
   "source": [
    "#level of significance the alpha level of 5% (α = 0.05)\n",
    "alpha=0.05\n",
    "cal_value=(sample_mean-pop_mean)/(sigma/np.sqrt(25))\n",
    "print(\"The calculated value:\",cal_value)"
   ]
  },
  {
   "cell_type": "code",
   "execution_count": 4,
   "id": "18636fc7-e098-4c0c-83c9-dc13da264a36",
   "metadata": {},
   "outputs": [
    {
     "name": "stdout",
     "output_type": "stream",
     "text": [
      "The probability is: 1.0\n"
     ]
    }
   ],
   "source": [
    "prob=1-stats.norm.cdf(cal_value)\n",
    "print(\"The probability is:\",prob)"
   ]
  },
  {
   "cell_type": "markdown",
   "id": "6fa8bcd1-5d98-4d57-beb1-93d6234394a5",
   "metadata": {},
   "source": [
    "# Make a Decision"
   ]
  },
  {
   "cell_type": "code",
   "execution_count": 5,
   "id": "733a9645-563b-4d15-9edb-3becb74045b2",
   "metadata": {},
   "outputs": [
    {
     "name": "stdout",
     "output_type": "stream",
     "text": [
      "Accept the Null Hypothesis.\n"
     ]
    }
   ],
   "source": [
    "if prob >= alpha:\n",
    "    print(\"Accept the Null Hypothesis.\")\n",
    "else:\n",
    "    print(\"Reject the Null Hypothesis.\")"
   ]
  },
  {
   "cell_type": "markdown",
   "id": "85f3ad43-6e8a-4c52-affc-f6b8d1af2d21",
   "metadata": {},
   "source": [
    "# Conclusions"
   ]
  },
  {
   "cell_type": "code",
   "execution_count": 6,
   "id": "bf85f835-ac9d-497f-94d4-92a5008f4964",
   "metadata": {},
   "outputs": [
    {
     "name": "stdout",
     "output_type": "stream",
     "text": [
      "There is not enough evidence to support the claim that the weekly operating costs are higher than the model suggests.\n"
     ]
    }
   ],
   "source": [
    "if prob >= alpha:\n",
    "    print(\"There is not enough evidence to support the claim that the weekly operating costs are higher than the model suggests.\")\n",
    "else:\n",
    "    print(\"There is enough evidence to support the claim that the weekly operating costs are higher than the model suggests.\")"
   ]
  },
  {
   "cell_type": "markdown",
   "id": "f97bbb58-9b72-49f8-a6a4-d37023e965e2",
   "metadata": {},
   "source": [
    "# Chi-Square Test"
   ]
  },
  {
   "cell_type": "code",
   "execution_count": 7,
   "id": "e4ca952c-4f28-42f3-8749-4250fa9bed5e",
   "metadata": {},
   "outputs": [],
   "source": [
    "#importing the require libraries\n",
    "from scipy.stats.contingency import chi2_contingency"
   ]
  },
  {
   "cell_type": "markdown",
   "id": "4eb6868d-d4ba-4367-943a-2c60d43e9470",
   "metadata": {},
   "source": [
    "# Hypothesis Statements:"
   ]
  },
  {
   "cell_type": "markdown",
   "id": "db806683-7b31-4add-bfad-1b7e22670ba7",
   "metadata": {},
   "source": [
    "# Null Hypothesis(HO):\n",
    "# There is no significant association between the type of device purchased and the customer's satisfaction level."
   ]
  },
  {
   "cell_type": "markdown",
   "id": "183746b7-1183-496a-9bc2-c1e9c3c11830",
   "metadata": {},
   "source": [
    "# Alternate Hypothesis(H1):\n",
    "# There is significant association between the type of device purchased and the customer's satisfaction level."
   ]
  },
  {
   "cell_type": "code",
   "execution_count": 8,
   "id": "03ada3e3-2b28-4079-bfbc-b7df3d6d7d36",
   "metadata": {},
   "outputs": [
    {
     "name": "stdout",
     "output_type": "stream",
     "text": [
      "[[ 50  70]\n",
      " [ 80 100]\n",
      " [ 60  90]\n",
      " [ 30  50]\n",
      " [ 20  50]]\n"
     ]
    }
   ],
   "source": [
    "data=np.array([[50,70],[80,100],[60,90],[30,50],[20,50]])\n",
    "print(data)"
   ]
  },
  {
   "cell_type": "markdown",
   "id": "9445f93c-01c8-4e2d-9a4c-590b851fbab1",
   "metadata": {},
   "source": [
    "# The significance level (alpha) of 0.05 "
   ]
  },
  {
   "cell_type": "markdown",
   "id": "95132a88-18f2-4ab6-9b90-204285cde166",
   "metadata": {},
   "source": [
    "# Expected Table"
   ]
  },
  {
   "cell_type": "code",
   "execution_count": 13,
   "id": "6832fa78-92b1-43fd-945b-2d5166694b2c",
   "metadata": {},
   "outputs": [
    {
     "name": "stdout",
     "output_type": "stream",
     "text": [
      "[[ 48.  72.]\n",
      " [ 72. 108.]\n",
      " [ 60.  90.]\n",
      " [ 32.  48.]\n",
      " [ 28.  42.]]\n"
     ]
    }
   ],
   "source": [
    "expected_table=chi2_contingency(data)\n",
    "print(expected_table[3])"
   ]
  },
  {
   "cell_type": "markdown",
   "id": "a9aa7d55-0526-4d58-acbe-b3ac48aa3e93",
   "metadata": {},
   "source": [
    "# Get Chi2_value,Probability and Degrees of freedom"
   ]
  },
  {
   "cell_type": "code",
   "execution_count": 14,
   "id": "24fd798f-6cb5-47fc-8532-e9551bdcadf5",
   "metadata": {},
   "outputs": [
    {
     "name": "stdout",
     "output_type": "stream",
     "text": [
      "The Calculated chi2_stat: 5.638227513227513\n",
      "The Probability is: 0.22784371130697179\n",
      "The Degrees of Freedom: 4\n"
     ]
    }
   ],
   "source": [
    "chi2=chi2_contingency(data)\n",
    "prob=chi2[1]\n",
    "print(\"The Calculated chi2_stat:\",chi2[0])\n",
    "print(\"The Probability is:\",chi2[1])\n",
    "print(\"The Degrees of Freedom:\",chi2[2])"
   ]
  },
  {
   "cell_type": "markdown",
   "id": "8318223f-f59d-48ea-9d34-9749895d97a8",
   "metadata": {},
   "source": [
    "# Make a Decision"
   ]
  },
  {
   "cell_type": "code",
   "execution_count": 15,
   "id": "51508793-9b1f-451b-8405-9ea95dc34d38",
   "metadata": {},
   "outputs": [
    {
     "name": "stdout",
     "output_type": "stream",
     "text": [
      "Reject the Null Hypothesis.\n"
     ]
    }
   ],
   "source": [
    "if prob <= alpha:\n",
    "    print(\"Accept the Null Hypothesis.\")\n",
    "else:\n",
    "    print(\"Reject the Null Hypothesis.\")"
   ]
  },
  {
   "cell_type": "markdown",
   "id": "0a00aafe-d183-4024-8986-1009e0adc5be",
   "metadata": {},
   "source": [
    "# Conclusions"
   ]
  },
  {
   "cell_type": "code",
   "execution_count": 11,
   "id": "4b5dbcc5-59d9-4a70-ab7e-43ecd2844238",
   "metadata": {},
   "outputs": [
    {
     "name": "stdout",
     "output_type": "stream",
     "text": [
      "There is a significant association between the type of device purchased and the customer's satisfaction level.\n"
     ]
    }
   ],
   "source": [
    "if prob <= alpha:\n",
    "    print(\"There is no significant association between the type of device purchased and the customer's satisfaction level.\")\n",
    "else:\n",
    "    print(\"There is a significant association between the type of device purchased and the customer's satisfaction level.\")"
   ]
  }
 ],
 "metadata": {
  "kernelspec": {
   "display_name": "Python 3 (ipykernel)",
   "language": "python",
   "name": "python3"
  },
  "language_info": {
   "codemirror_mode": {
    "name": "ipython",
    "version": 3
   },
   "file_extension": ".py",
   "mimetype": "text/x-python",
   "name": "python",
   "nbconvert_exporter": "python",
   "pygments_lexer": "ipython3",
   "version": "3.11.7"
  }
 },
 "nbformat": 4,
 "nbformat_minor": 5
}
