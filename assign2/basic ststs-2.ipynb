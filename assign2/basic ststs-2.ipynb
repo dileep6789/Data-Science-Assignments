{
 "cells": [
  {
   "cell_type": "code",
   "execution_count": 10,
   "id": "7ad1540e-de11-4115-b5b5-46f2caffb1db",
   "metadata": {},
   "outputs": [],
   "source": [
    "import numpy as np\n",
    "import pandas as pd\n",
    "from scipy import stats\n"
   ]
  },
  {
   "cell_type": "code",
   "execution_count": 25,
   "id": "fb95a3f5-c926-4a6d-bc37-9985065804d8",
   "metadata": {},
   "outputs": [
    {
     "data": {
      "text/plain": [
       "array([1.13, 1.55, 1.43, 0.92, 1.25, 1.36, 1.32, 0.85, 1.07, 1.48, 1.2 ,\n",
       "       1.33, 1.18, 1.22, 1.29])"
      ]
     },
     "execution_count": 25,
     "metadata": {},
     "output_type": "execute_result"
    }
   ],
   "source": [
    "list=[1.13, 1.55, 1.43, 0.92, 1.25, 1.36, 1.32, 0.85, 1.07, 1.48, 1.20, 1.33, 1.18, 1.22, 1.29]\n",
    "#sample=pd.DataFrame(list,columns=[\"num\"])\n",
    "#sample.head()\n",
    "sample=np.array(list)\n",
    "sample"
   ]
  },
  {
   "cell_type": "code",
   "execution_count": 22,
   "id": "11563a45-3543-42fd-b035-7a4bd10f3ca4",
   "metadata": {},
   "outputs": [
    {
     "data": {
      "text/plain": [
       "1.2386666666666666"
      ]
     },
     "execution_count": 22,
     "metadata": {},
     "output_type": "execute_result"
    }
   ],
   "source": [
    "np.mean(list)"
   ]
  },
  {
   "cell_type": "code",
   "execution_count": 15,
   "id": "8da268d1-d91e-4e0f-81ee-d772c721bada",
   "metadata": {},
   "outputs": [
    {
     "data": {
      "text/plain": [
       "num    1.238667\n",
       "dtype: float64"
      ]
     },
     "execution_count": 15,
     "metadata": {},
     "output_type": "execute_result"
    }
   ],
   "source": [
    "sample.mean()"
   ]
  },
  {
   "cell_type": "code",
   "execution_count": 16,
   "id": "3d9f41bc-74b9-463d-aedd-2fc625e7e5e7",
   "metadata": {},
   "outputs": [
    {
     "data": {
      "text/plain": [
       "num    0.193164\n",
       "dtype: float64"
      ]
     },
     "execution_count": 16,
     "metadata": {},
     "output_type": "execute_result"
    }
   ],
   "source": [
    "sample.std()"
   ]
  },
  {
   "cell_type": "code",
   "execution_count": 26,
   "id": "7c13411c-3ffc-4167-98c7-918f29eead03",
   "metadata": {},
   "outputs": [
    {
     "name": "stdout",
     "output_type": "stream",
     "text": [
      "(1.0952316686385626, 1.3821016646947706)\n"
     ]
    }
   ],
   "source": [
    "interval=stats.t.interval(0.99,loc=sample.mean(),scale=sample.std()/np.sqrt(15),df=14)\n",
    "print(interval)"
   ]
  },
  {
   "cell_type": "code",
   "execution_count": 27,
   "id": "37e380f2-8c89-4018-81f7-8c19af936d99",
   "metadata": {},
   "outputs": [
    {
     "name": "stdout",
     "output_type": "stream",
     "text": [
      "(1.1056514133957607, 1.3716819199375725)\n"
     ]
    }
   ],
   "source": [
    "interval=stats.norm.interval(0.99,loc=sample.mean(),scale=0.2/np.sqrt(15))\n",
    "print(interval)"
   ]
  }
 ],
 "metadata": {
  "kernelspec": {
   "display_name": "Python 3 (ipykernel)",
   "language": "python",
   "name": "python3"
  },
  "language_info": {
   "codemirror_mode": {
    "name": "ipython",
    "version": 3
   },
   "file_extension": ".py",
   "mimetype": "text/x-python",
   "name": "python",
   "nbconvert_exporter": "python",
   "pygments_lexer": "ipython3",
   "version": "3.11.7"
  }
 },
 "nbformat": 4,
 "nbformat_minor": 5
}
